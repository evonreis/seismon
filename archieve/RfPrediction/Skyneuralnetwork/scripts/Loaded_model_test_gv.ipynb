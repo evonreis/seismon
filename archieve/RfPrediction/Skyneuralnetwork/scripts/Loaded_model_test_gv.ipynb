{
 "cells": [
  {
   "cell_type": "code",
   "execution_count": 1,
   "metadata": {},
   "outputs": [
    {
     "name": "stderr",
     "output_type": "stream",
     "text": [
      "Using TensorFlow backend.\n"
     ]
    }
   ],
   "source": [
    "%matplotlib inline\n",
    "\n",
    "import matplotlib as mpl\n",
    "import matplotlib.pyplot as plt\n",
    "\n",
    "mpl.rc('font', size=15)\n",
    "mpl.rc('figure', figsize=(8, 5))\n",
    "\n",
    "import numpy as np\n",
    "import scipy.signal as sig\n",
    "import keras\n",
    "import h5py\n",
    "from keras.layers import Input, Dense, Activation, Dropout\n",
    "from keras.models import Model\n",
    "from keras.models import load_model\n",
    "from keras import regularizers\n",
    "from keras.initializers import glorot_normal, glorot_uniform\n",
    "from keras.optimizers import Adam\n",
    "\n",
    "from mpl_toolkits.basemap import Basemap\n",
    "from matplotlib.path import Path"
   ]
  },
  {
   "cell_type": "markdown",
   "metadata": {},
   "source": [
    "### Load data and Preprocessing \n"
   ]
  },
  {
   "cell_type": "code",
   "execution_count": 2,
   "metadata": {},
   "outputs": [],
   "source": [
    "# fix random seed for reproducibility\n",
    "np.random.seed(8)\n",
    "\n",
    "# Load data and exclude nan value\n",
    "#data = np.genfromtxt('H1O1O2_GPR_earthquakes.txt')\n",
    "data = np.genfromtxt('IRISwest.txt')"
   ]
  },
  {
   "cell_type": "code",
   "execution_count": 3,
   "metadata": {},
   "outputs": [
    {
     "name": "stdout",
     "output_type": "stream",
     "text": [
      "245923\n"
     ]
    }
   ],
   "source": [
    "#mostly for IRIS data\n",
    "#####maybe if we cut out the IRIS P waves we can get better results## \n",
    "#going to chooose 6000 \n",
    "\n",
    "#eqgpstime = data[:,1]\n",
    "#peakgpstime = data[:,17]\n",
    "#arrivaltime = np.subtract(peakgpstime,eqgpstime)\n",
    "#distance = data[:,13]\n",
    "#Velocity = np.divide(distance, arrivaltime)\n",
    "#pwaveomit = 6000\n",
    "#Velocity1 = Velocity[Velocity<6000]\n",
    "##data = data[Velocity<6000]\n",
    "print (len(data))"
   ]
  },
  {
   "cell_type": "markdown",
   "metadata": {},
   "source": [
    "## To exclude non-land points "
   ]
  },
  {
   "cell_type": "code",
   "execution_count": 4,
   "metadata": {},
   "outputs": [
    {
     "name": "stdout",
     "output_type": "stream",
     "text": [
      "245923\n"
     ]
    }
   ],
   "source": [
    "#This cell excludes Earthquakes not on land\n",
    "#Warning: takes a while to run.\n",
    "\n",
    "#eq_lat2 = data[:,11]\n",
    "#eq_lon2 = data[:,12]\n",
    "#map1 = Basemap(projection='aeqd', lon_0 = 10, lat_0 = 50, resolution='h')\n",
    "#lats = eq_lat2  #[:100]                                                                                                        \\\n",
    "                                                                                                                                \n",
    "#lons = eq_lon2\n",
    "#x, y = map1(lons, lats)\n",
    "#locations = np.c_[x, y]\n",
    "#polygons = [Path(p.boundary) for p in map1.landpolygons]\n",
    "#result = np.zeros(len(locations), dtype=bool)\n",
    "#for polygon in polygons:\n",
    " #   result += np.array(polygon.contains_points(locations))\n",
    "\n",
    "#eq_lat1=lats[result]\n",
    "#eq_lon1=lons[result]\n",
    "#print (len(data))\n",
    "#print (result)\n",
    "#data =data[result]\n",
    "print (len(data))\n",
    "\n"
   ]
  },
  {
   "cell_type": "code",
   "execution_count": 5,
   "metadata": {},
   "outputs": [
    {
     "name": "stdout",
     "output_type": "stream",
     "text": [
      "X_val shape: (235305, 6)\n",
      "y_val shape: (235305,)\n"
     ]
    }
   ],
   "source": [
    "\n",
    "# Extract X and y and divide into train, val, and test set\n",
    "X = data[:, [2, 11, 12, 13, 14, 15]]#iris\n",
    "#X = data[:, [1, 10, 11, 12, 13, 14]] #L10102, H10102, V10102\n",
    "\n",
    "y = np.log10(data[:, 18]) #iris \n",
    "#y = np.log10(data[:, 25])  #L10102, H10102, V10102\n",
    "\n",
    "#cutting out earthquakes with a ground velocity less 1e-6\n",
    "mask = y > -6.0   \n",
    "\n",
    "y = y[mask]\n",
    "X = X[mask]\n",
    "\n",
    "# Normalizing\n",
    "X -= np.mean(X, axis=0) \n",
    "X /= np.std(X, axis=0)\n",
    "\n",
    "mean_y = np.mean(y, axis=0)\n",
    "stdv_y = np.std(y, axis=0)\n",
    "y = (y-mean_y)/stdv_y\n",
    "\n",
    "# Shuffle and divide into train and val set\n",
    "mask = np.random.permutation(X.shape[0]) #(does this work with seed?)\n",
    "X = X[mask]\n",
    "y = y[mask]\n",
    "#distance = distance[mask]\n",
    "                \n",
    "tfrac = int(0*y.size) #In training 0.8 but here testing against all data\n",
    "#X_train = X[:tfrac]\n",
    "#y_train = y[:tfrac]\n",
    "X_val = X[tfrac:]\n",
    "y_val = y[tfrac:]\n",
    "#distance_val=distance[mask]\n",
    "\n",
    "#print('X_train shape: {}'.format(X_train.shape))\n",
    "#print('y_train shape: {}'.format(y_train.shape))\n",
    "print('X_val shape: {}'.format(X_val.shape))\n",
    "print('y_val shape: {}'.format(y_val.shape))"
   ]
  },
  {
   "cell_type": "markdown",
   "metadata": {},
   "source": [
    "## Load Model"
   ]
  },
  {
   "cell_type": "code",
   "execution_count": 6,
   "metadata": {},
   "outputs": [],
   "source": [
    "model = load_model('livgv1.hdf5')\n"
   ]
  },
  {
   "cell_type": "markdown",
   "metadata": {},
   "source": [
    "## Predict "
   ]
  },
  {
   "cell_type": "code",
   "execution_count": 7,
   "metadata": {},
   "outputs": [],
   "source": [
    "y_pred = model.predict(X_val) \n",
    "# Inverse-normalize\n",
    "y_val = y_val*stdv_y + mean_y\n",
    "y_pred = y_pred*stdv_y + mean_y"
   ]
  },
  {
   "cell_type": "code",
   "execution_count": 8,
   "metadata": {},
   "outputs": [
    {
     "name": "stdout",
     "output_type": "stream",
     "text": [
      "(235305,)\n",
      "(235305,)\n"
     ]
    },
    {
     "name": "stderr",
     "output_type": "stream",
     "text": [
      "/anaconda3/envs/ligo/lib/python3.6/site-packages/matplotlib/axes/_base.py:1400: MatplotlibDeprecationWarning: The 'box-forced' keyword argument is deprecated since 2.2.\n",
      "  \" since 2.2.\", cbook.mplDeprecation)\n"
     ]
    },
    {
     "data": {
      "image/png": "[encoded data removed]",
      "text/plain": [
       "<Figure size 432x288 with 1 Axes>"
      ]
     },
     "metadata": {},
     "output_type": "display_data"
    }
   ],
   "source": [
    "print(y_val.shape)\n",
    "y_pred = y_pred.flatten()\n",
    "print(y_pred.shape)\n",
    "absy_val = abs(y_val)\n",
    "absy_pred = abs(y_pred)\n",
    "\n",
    "#taking antilog so we can see what we are used too \n",
    "antiy_val = 10**y_val\n",
    "antiy_pred = 10**y_pred\n",
    "\n",
    "v_min = min(np.min(antiy_val), np.min(antiy_pred))\n",
    "v_max = max(np.max(antiy_val), np.max(antiy_pred))\n",
    "x = np.linspace(v_min, v_max, 1000)\n",
    "\n",
    "fig, ax = plt.subplots()\n",
    "\n",
    "ax.loglog(antiy_val, antiy_pred, '.')\n",
    "ax.plot(x, x)\n",
    "\n",
    "ax.set(ylabel='Predicted ground velocity times [m/s]', xlabel='Actual ground velocity times [m/s]',title = 'Actual vs. predicted Ground Velocity times' )\n",
    "ax.set(adjustable='box-forced', aspect='equal')\n",
    "\n",
    "fig.tight_layout()\n",
    "\n",
    "plt.savefig('livoniw1.png', dpi =300,bbox_inches='tight')\n",
    "\n",
    "\n"
   ]
  },
  {
   "cell_type": "code",
   "execution_count": 9,
   "metadata": {},
   "outputs": [
    {
     "data": {
      "image/png": "[encoded data removed]",
      "text/plain": [
       "<Figure size 432x288 with 2 Axes>"
      ]
     },
     "metadata": {},
     "output_type": "display_data"
    }
   ],
   "source": [
    "x = np.linspace(v_min, v_max, 1000)\n",
    "fig2, ax, = plt.subplots()\n",
    "x_bins = np.logspace(np.log10(antiy_val.min()), np.log10(antiy_val.max()),np.sqrt(5000)) #12279\n",
    "y_bins = np.logspace(np.log10(antiy_pred.min()), np.log10(antiy_pred.max()),np.sqrt(5000))\n",
    "H, xedges, yedges = np.histogram2d(antiy_val, antiy_pred, bins=[x_bins,y_bins])\n",
    "#ax2 = fig.add_subplot(212)\n",
    "h = ax.pcolormesh(xedges, yedges, H.T)\n",
    "#ax.set_aspect('equal')\n",
    "#ax.set(adjustable='box-forced', aspect='equal')\n",
    "#a2.imshow(img, origin='lower', extent=extent, aspect='auto')\n",
    "ax.set_xscale('log')\n",
    "ax.set_yscale('log')\n",
    "ax.axis([yedges.min(),yedges.max(),yedges.min(),yedges.max()])\n",
    "#ax.set(ylabel='Predicted arrival times [s]', xlabel='Actual Arrival times [m/s]',title = 'Actual vs. predicted arrival times')\n",
    "ax.set(ylabel='Predicted ground velocity times [m/s]', xlabel='Actual ground velocity times [m/s]',title = 'Actual vs. predicted Ground Velocity times')\n",
    "\n",
    "\n",
    "\n",
    "cbar = plt.colorbar(h, ax=ax)\n",
    "ax.plot(x, x, c='r',linewidth=.5)\n",
    "#ax.set_ylim([0, 10e-2])\n",
    "#ax.set_xlim([0, 10e-2])\n",
    "#ax.set_aspect('equal')\n",
    "#cbar =plt.colorbar()\n",
    "#cbar.ax.set_ylabel('Counts')\n",
    "cbar.set_label('Counts', rotation=270,labelpad=9)\n",
    "\n",
    "fig.tight_layout()\n",
    "ax.set(adjustable='box', aspect='equal')\n",
    "plt.savefig('livoniwdensity1.png', dpi =300,bbox_inches='tight')\n",
    "\n",
    "plt.show()"
   ]
  },
  {
   "cell_type": "code",
   "execution_count": 10,
   "metadata": {},
   "outputs": [
    {
     "name": "stdout",
     "output_type": "stream",
     "text": [
      "(235305,)\n"
     ]
    },
    {
     "data": {
      "image/png": "[encoded data removed]",
      "text/plain": [
       "<Figure size 432x288 with 1 Axes>"
      ]
     },
     "metadata": {},
     "output_type": "display_data"
    }
   ],
   "source": [
    "z = np.array(abs((antiy_val -antiy_pred)/antiy_val))\n",
    "print(z.shape)\n",
    "#print (np.average(z))\n",
    "plt.hist(z, bins=30,range =[0,3.5], facecolor='blue', alpha=0.5)\n",
    "plt.xlabel('(Predicted-Actual)/Actual Error')\n",
    "plt.ylabel('Counts')\n",
    "plt.title('Predicted Ground Velocity amount falling within error')\n",
    "plt.savefig('livoniwhist1.png', dpi =300,bbox_inches='tight')\n",
    "plt.show()"
   ]
  },
  {
   "cell_type": "code",
   "execution_count": null,
   "metadata": {},
   "outputs": [],
   "source": []
  }
 ],
 "metadata": {
  "kernelspec": {
   "display_name": "Python 3",
   "language": "python",
   "name": "python3"
  },
  "language_info": {
   "codemirror_mode": {
    "name": "ipython",
    "version": 3
   },
   "file_extension": ".py",
   "mimetype": "text/x-python",
   "name": "python",
   "nbconvert_exporter": "python",
   "pygments_lexer": "ipython3",
   "version": "3.6.6"
  }
 },
 "nbformat": 4,
 "nbformat_minor": 2
}
