{
 "cells": [
  {
   "cell_type": "code",
   "execution_count": 1,
   "metadata": {},
   "outputs": [
    {
     "name": "stderr",
     "output_type": "stream",
     "text": [
      "Using TensorFlow backend.\n"
     ]
    }
   ],
   "source": [
    "%matplotlib inline\n",
    "\n",
    "import matplotlib as mpl\n",
    "import matplotlib.pyplot as plt\n",
    "\n",
    "mpl.rc('font', size=15)\n",
    "mpl.rc('figure', figsize=(8, 5))\n",
    "\n",
    "import numpy as np\n",
    "import scipy.signal as sig\n",
    "import keras\n",
    "\n",
    "from keras.layers import Input, Dense, Activation, Dropout\n",
    "from keras.models import Model\n",
    "from keras.models import load_model\n",
    "from sklearn.model_selection import KFold\n",
    "from sklearn.model_selection import cross_val_score\n",
    "from keras import regularizers\n",
    "from keras.initializers import glorot_normal, glorot_uniform\n",
    "from keras.optimizers import Adam\n",
    "from keras import backend\n",
    "from mpl_toolkits.basemap import Basemap\n",
    "from matplotlib.path import Path\n",
    "\n"
   ]
  },
  {
   "cell_type": "markdown",
   "metadata": {},
   "source": [
    "## Load data and Preprocessing"
   ]
  },
  {
   "cell_type": "code",
   "execution_count": 2,
   "metadata": {},
   "outputs": [],
   "source": [
    "# fix random seed for reproducibility\n",
    "np.random.seed(7)\n",
    "\n",
    "# Load data and exclude nan value\n",
    "#data = np.genfromtxt('IRISwest.txt')\n",
    "data = np.genfromtxt('IRIS.txt')\n"
   ]
  },
  {
   "cell_type": "code",
   "execution_count": 3,
   "metadata": {},
   "outputs": [
    {
     "name": "stdout",
     "output_type": "stream",
     "text": [
      "733208\n"
     ]
    }
   ],
   "source": [
    "#####maybe if we cut out the IRIS P waves we can get better results## \n",
    "#going to chooose 6000 \n",
    "\n",
    "\n",
    "#Velocity= np.divide(data[:,13],(np.subtract(data[:,17],data[:,1])))\n",
    "##print(Velocity)\n",
    "#pwaveomit = 6000\n",
    "#data = data[Velocity<6000]\n",
    "print (len(data))"
   ]
  },
  {
   "cell_type": "code",
   "execution_count": 4,
   "metadata": {},
   "outputs": [],
   "source": [
    "#To cut out non land points#\n",
    "\n",
    "#eq_lat2 = data[:,11]\n",
    "#eq_lon2 = data[:,12]\n",
    "#map1 = Basemap(projection='aeqd', lon_0 = 10, lat_0 = 50, resolution='h')\n",
    "#lats = eq_lat2  #[:100]                                                                                                        \\\n",
    "                                                                                                                                \n",
    "#lons = eq_lon2\n",
    "#x, y = map1(lons, lats)\n",
    "#locations = np.c_[x, y]\n",
    "#polygons = [Path(p.boundary) for p in map1.landpolygons]\n",
    "#result = np.zeros(len(locations), dtype=bool)\n",
    "#for polygon in polygons:\n",
    "#    result += np.array(polygon.contains_points(locations))\n",
    "\n",
    "###eq_lat1=lats[result]\n",
    "###eq_lon1=lons[result]\n",
    "#print (len(data))\n",
    "###print (result)\n",
    "#data =data[result]\n",
    "#print (len(data))\n",
    "\n"
   ]
  },
  {
   "cell_type": "code",
   "execution_count": 5,
   "metadata": {},
   "outputs": [
    {
     "name": "stdout",
     "output_type": "stream",
     "text": [
      "(733208, 6)\n",
      "[3000.59064381 3276.34296643 5772.21239797 ... 4504.69993836 3516.10530508\n",
      " 4632.36176835]\n",
      "X_train shape: (560362, 6)\n",
      "y_train shape: (560362,)\n",
      "X_val shape: (140091, 6)\n",
      "y_val shape: (140091,)\n"
     ]
    }
   ],
   "source": [
    "\n",
    "\n",
    "# Extract X and y and divide into train, val, and test set\n",
    "X = data[:, [2, 11, 12, 13, 14, 15]]\n",
    "\n",
    "Z = np.log10(data[:, 18])\n",
    "\n",
    "print(X.shape)\n",
    "\n",
    "#y =np.subtract((data[:,17 ]),(data[:, 1]))\n",
    "y= np.divide(data[:,13],(np.subtract(data[:,17],data[:,1]))) #iris\n",
    "print(y)\n",
    "\n",
    "#cutting out earthquakes with a ground velocity less 1e-6\n",
    "mask = Z > -6.0\n",
    "\n",
    "y = y[mask]\n",
    "X = X[mask]\n",
    "\n",
    "data =data[mask]\n",
    "distance = data[:,13]\n",
    "# Normalizing\n",
    "X -= np.mean(X, axis=0) #these standard deviations need to be changed if im not doing log?\n",
    "X /= np.std(X, axis=0)\n",
    "\n",
    "mean_y = np.mean(y, axis=0)\n",
    "stdv_y = np.std(y, axis=0)\n",
    "y = (y-mean_y)/stdv_y\n",
    "\n",
    "# Shuffle and divide into train and val set\n",
    "mask = np.random.permutation(X.shape[0]) #(does this work with seed)\n",
    "X = X[mask]\n",
    "y = y[mask]\n",
    "distance = distance[mask]\n",
    "tfrac = int(0.8*y.size) \n",
    "X_train = X[:tfrac]\n",
    "y_train = y[:tfrac]\n",
    "X_val = X[tfrac:]\n",
    "y_val = y[tfrac:]\n",
    "distance_val=distance[tfrac:]\n",
    "print('X_train shape: {}'.format(X_train.shape))\n",
    "print('y_train shape: {}'.format(y_train.shape))\n",
    "print('X_val shape: {}'.format(X_val.shape))\n",
    "print('y_val shape: {}'.format(y_val.shape))\n"
   ]
  },
  {
   "cell_type": "code",
   "execution_count": 6,
   "metadata": {},
   "outputs": [],
   "source": [
    "#root mean sqaure error metric \n",
    "#def rmse(y_val, y_pred):\n",
    " #   return backend.sqrt(backend.mean(backend.square(y_pred - y_val), axis=-1))"
   ]
  },
  {
   "cell_type": "markdown",
   "metadata": {},
   "source": [
    "## Create a DENSE network"
   ]
  },
  {
   "cell_type": "code",
   "execution_count": 7,
   "metadata": {},
   "outputs": [],
   "source": [
    "def QuakeNet(input_shape, lr=1e-3, reg=0.00, dropout=0.5):\n",
    "      #orig (input_shape, lr=1e-3, reg=0.00, dropout=0.0)\n",
    "    X_input = Input(input_shape)\n",
    "    \n",
    "    X = Dense(64, kernel_regularizer=regularizers.l2(reg),\n",
    "              activation='relu')(X_input)   \n",
    "    X = Dense(64, kernel_regularizer=regularizers.l2(reg),\n",
    "              activation='relu')(X)   \n",
    "    X = Dense(64, kernel_regularizer=regularizers.l2(reg),\n",
    "              activation='relu')(X)\n",
    "    X = Dense(64, kernel_regularizer=regularizers.l2(reg),\n",
    "              activation='relu')(X)\n",
    "    X = Dense(64, kernel_regularizer=regularizers.l2(reg),\n",
    "              activation='relu')(X)\n",
    "    X = Dense(64, kernel_regularizer=regularizers.l2(reg),\n",
    "              activation='relu')(X)\n",
    "    X = Dense(64, kernel_regularizer=regularizers.l2(reg),\n",
    "              activation='relu')(X)\n",
    "    X = Dropout(rate=dropout)(X)\n",
    "    X = Dense(1, kernel_regularizer=regularizers.l2(reg))(X)\n",
    "\n",
    "    model = Model(inputs=X_input, outputs=X, name='QuakeNet')\n",
    "    model.compile(optimizer=Adam(lr=lr), loss='mse') #metrics=[rmse])\n",
    "    \n",
    "    return model"
   ]
  },
  {
   "cell_type": "code",
   "execution_count": 8,
   "metadata": {},
   "outputs": [
    {
     "name": "stdout",
     "output_type": "stream",
     "text": [
      "_________________________________________________________________\n",
      "Layer (type)                 Output Shape              Param #   \n",
      "=================================================================\n",
      "input_1 (InputLayer)         (None, 6)                 0         \n",
      "_________________________________________________________________\n",
      "dense_1 (Dense)              (None, 64)                448       \n",
      "_________________________________________________________________\n",
      "dense_2 (Dense)              (None, 64)                4160      \n",
      "_________________________________________________________________\n",
      "dense_3 (Dense)              (None, 64)                4160      \n",
      "_________________________________________________________________\n",
      "dense_4 (Dense)              (None, 64)                4160      \n",
      "_________________________________________________________________\n",
      "dense_5 (Dense)              (None, 64)                4160      \n",
      "_________________________________________________________________\n",
      "dense_6 (Dense)              (None, 64)                4160      \n",
      "_________________________________________________________________\n",
      "dense_7 (Dense)              (None, 64)                4160      \n",
      "_________________________________________________________________\n",
      "dropout_1 (Dropout)          (None, 64)                0         \n",
      "_________________________________________________________________\n",
      "dense_8 (Dense)              (None, 1)                 65        \n",
      "=================================================================\n",
      "Total params: 25,473\n",
      "Trainable params: 25,473\n",
      "Non-trainable params: 0\n",
      "_________________________________________________________________\n"
     ]
    }
   ],
   "source": [
    "input_shape = (X_train.shape[1], )\n",
    "model = QuakeNet(input_shape=input_shape)\n",
    "model.summary()"
   ]
  },
  {
   "cell_type": "markdown",
   "metadata": {},
   "source": [
    "## Train"
   ]
  },
  {
   "cell_type": "code",
   "execution_count": 9,
   "metadata": {},
   "outputs": [
    {
     "name": "stdout",
     "output_type": "stream",
     "text": [
      "Train on 560362 samples, validate on 140091 samples\n",
      "Epoch 1/400\n",
      "560362/560362 [==============================] - 18s 32us/step - loss: 0.7318 - val_loss: 0.7110\n",
      "Epoch 2/400\n",
      "286000/560362 [==============>...............] - ETA: 6s - loss: 0.6968"
     ]
    },
    {
     "ename": "KeyboardInterrupt",
     "evalue": "",
     "output_type": "error",
     "traceback": [
      "\u001b[0;31m---------------------------------------------------------------------------\u001b[0m",
      "\u001b[0;31mKeyboardInterrupt\u001b[0m                         Traceback (most recent call last)",
      "\u001b[0;32m<ipython-input-9-f50a11c6db9b>\u001b[0m in \u001b[0;36m<module>\u001b[0;34m()\u001b[0m\n\u001b[0;32m----> 1\u001b[0;31m \u001b[0mstats\u001b[0m \u001b[0;34m=\u001b[0m \u001b[0mmodel\u001b[0m\u001b[0;34m.\u001b[0m\u001b[0mfit\u001b[0m\u001b[0;34m(\u001b[0m\u001b[0mX_train\u001b[0m\u001b[0;34m,\u001b[0m \u001b[0my_train\u001b[0m\u001b[0;34m,\u001b[0m \u001b[0mepochs\u001b[0m\u001b[0;34m=\u001b[0m\u001b[0;36m400\u001b[0m\u001b[0;34m,\u001b[0m \u001b[0mbatch_size\u001b[0m\u001b[0;34m=\u001b[0m\u001b[0;36m250\u001b[0m\u001b[0;34m,\u001b[0m \u001b[0mvalidation_data\u001b[0m\u001b[0;34m=\u001b[0m\u001b[0;34m(\u001b[0m\u001b[0mX_val\u001b[0m\u001b[0;34m,\u001b[0m \u001b[0my_val\u001b[0m\u001b[0;34m)\u001b[0m\u001b[0;34m)\u001b[0m\u001b[0;34m\u001b[0m\u001b[0m\n\u001b[0m",
      "\u001b[0;32m/anaconda3/envs/ligo/lib/python3.6/site-packages/keras/engine/training.py\u001b[0m in \u001b[0;36mfit\u001b[0;34m(self, x, y, batch_size, epochs, verbose, callbacks, validation_split, validation_data, shuffle, class_weight, sample_weight, initial_epoch, steps_per_epoch, validation_steps, **kwargs)\u001b[0m\n\u001b[1;32m   1035\u001b[0m                                         \u001b[0minitial_epoch\u001b[0m\u001b[0;34m=\u001b[0m\u001b[0minitial_epoch\u001b[0m\u001b[0;34m,\u001b[0m\u001b[0;34m\u001b[0m\u001b[0m\n\u001b[1;32m   1036\u001b[0m                                         \u001b[0msteps_per_epoch\u001b[0m\u001b[0;34m=\u001b[0m\u001b[0msteps_per_epoch\u001b[0m\u001b[0;34m,\u001b[0m\u001b[0;34m\u001b[0m\u001b[0m\n\u001b[0;32m-> 1037\u001b[0;31m                                         validation_steps=validation_steps)\n\u001b[0m\u001b[1;32m   1038\u001b[0m \u001b[0;34m\u001b[0m\u001b[0m\n\u001b[1;32m   1039\u001b[0m     def evaluate(self, x=None, y=None,\n",
      "\u001b[0;32m/anaconda3/envs/ligo/lib/python3.6/site-packages/keras/engine/training_arrays.py\u001b[0m in \u001b[0;36mfit_loop\u001b[0;34m(model, f, ins, out_labels, batch_size, epochs, verbose, callbacks, val_f, val_ins, shuffle, callback_metrics, initial_epoch, steps_per_epoch, validation_steps)\u001b[0m\n\u001b[1;32m    183\u001b[0m                         \u001b[0;31m# Do not slice the training phase flag.\u001b[0m\u001b[0;34m\u001b[0m\u001b[0;34m\u001b[0m\u001b[0m\n\u001b[1;32m    184\u001b[0m                         ins_batch = slice_arrays(\n\u001b[0;32m--> 185\u001b[0;31m                             ins[:-1], batch_ids) + [ins[-1]]\n\u001b[0m\u001b[1;32m    186\u001b[0m                     \u001b[0;32melse\u001b[0m\u001b[0;34m:\u001b[0m\u001b[0;34m\u001b[0m\u001b[0m\n\u001b[1;32m    187\u001b[0m                         \u001b[0mins_batch\u001b[0m \u001b[0;34m=\u001b[0m \u001b[0mslice_arrays\u001b[0m\u001b[0;34m(\u001b[0m\u001b[0mins\u001b[0m\u001b[0;34m,\u001b[0m \u001b[0mbatch_ids\u001b[0m\u001b[0;34m)\u001b[0m\u001b[0;34m\u001b[0m\u001b[0m\n",
      "\u001b[0;32m/anaconda3/envs/ligo/lib/python3.6/site-packages/keras/utils/generic_utils.py\u001b[0m in \u001b[0;36mslice_arrays\u001b[0;34m(arrays, start, stop)\u001b[0m\n\u001b[1;32m    521\u001b[0m             \u001b[0;32mif\u001b[0m \u001b[0mhasattr\u001b[0m\u001b[0;34m(\u001b[0m\u001b[0mstart\u001b[0m\u001b[0;34m,\u001b[0m \u001b[0;34m'shape'\u001b[0m\u001b[0;34m)\u001b[0m\u001b[0;34m:\u001b[0m\u001b[0;34m\u001b[0m\u001b[0m\n\u001b[1;32m    522\u001b[0m                 \u001b[0mstart\u001b[0m \u001b[0;34m=\u001b[0m \u001b[0mstart\u001b[0m\u001b[0;34m.\u001b[0m\u001b[0mtolist\u001b[0m\u001b[0;34m(\u001b[0m\u001b[0;34m)\u001b[0m\u001b[0;34m\u001b[0m\u001b[0m\n\u001b[0;32m--> 523\u001b[0;31m             \u001b[0;32mreturn\u001b[0m \u001b[0;34m[\u001b[0m\u001b[0;32mNone\u001b[0m \u001b[0;32mif\u001b[0m \u001b[0mx\u001b[0m \u001b[0;32mis\u001b[0m \u001b[0;32mNone\u001b[0m \u001b[0;32melse\u001b[0m \u001b[0mx\u001b[0m\u001b[0;34m[\u001b[0m\u001b[0mstart\u001b[0m\u001b[0;34m]\u001b[0m \u001b[0;32mfor\u001b[0m \u001b[0mx\u001b[0m \u001b[0;32min\u001b[0m \u001b[0marrays\u001b[0m\u001b[0;34m]\u001b[0m\u001b[0;34m\u001b[0m\u001b[0m\n\u001b[0m\u001b[1;32m    524\u001b[0m         \u001b[0;32melse\u001b[0m\u001b[0;34m:\u001b[0m\u001b[0;34m\u001b[0m\u001b[0m\n\u001b[1;32m    525\u001b[0m             \u001b[0;32mreturn\u001b[0m \u001b[0;34m[\u001b[0m\u001b[0;32mNone\u001b[0m \u001b[0;32mif\u001b[0m \u001b[0mx\u001b[0m \u001b[0;32mis\u001b[0m \u001b[0;32mNone\u001b[0m \u001b[0;32melse\u001b[0m \u001b[0mx\u001b[0m\u001b[0;34m[\u001b[0m\u001b[0mstart\u001b[0m\u001b[0;34m:\u001b[0m\u001b[0mstop\u001b[0m\u001b[0;34m]\u001b[0m \u001b[0;32mfor\u001b[0m \u001b[0mx\u001b[0m \u001b[0;32min\u001b[0m \u001b[0marrays\u001b[0m\u001b[0;34m]\u001b[0m\u001b[0;34m\u001b[0m\u001b[0m\n",
      "\u001b[0;32m/anaconda3/envs/ligo/lib/python3.6/site-packages/keras/utils/generic_utils.py\u001b[0m in \u001b[0;36m<listcomp>\u001b[0;34m(.0)\u001b[0m\n\u001b[1;32m    521\u001b[0m             \u001b[0;32mif\u001b[0m \u001b[0mhasattr\u001b[0m\u001b[0;34m(\u001b[0m\u001b[0mstart\u001b[0m\u001b[0;34m,\u001b[0m \u001b[0;34m'shape'\u001b[0m\u001b[0;34m)\u001b[0m\u001b[0;34m:\u001b[0m\u001b[0;34m\u001b[0m\u001b[0m\n\u001b[1;32m    522\u001b[0m                 \u001b[0mstart\u001b[0m \u001b[0;34m=\u001b[0m \u001b[0mstart\u001b[0m\u001b[0;34m.\u001b[0m\u001b[0mtolist\u001b[0m\u001b[0;34m(\u001b[0m\u001b[0;34m)\u001b[0m\u001b[0;34m\u001b[0m\u001b[0m\n\u001b[0;32m--> 523\u001b[0;31m             \u001b[0;32mreturn\u001b[0m \u001b[0;34m[\u001b[0m\u001b[0;32mNone\u001b[0m \u001b[0;32mif\u001b[0m \u001b[0mx\u001b[0m \u001b[0;32mis\u001b[0m \u001b[0;32mNone\u001b[0m \u001b[0;32melse\u001b[0m \u001b[0mx\u001b[0m\u001b[0;34m[\u001b[0m\u001b[0mstart\u001b[0m\u001b[0;34m]\u001b[0m \u001b[0;32mfor\u001b[0m \u001b[0mx\u001b[0m \u001b[0;32min\u001b[0m \u001b[0marrays\u001b[0m\u001b[0;34m]\u001b[0m\u001b[0;34m\u001b[0m\u001b[0m\n\u001b[0m\u001b[1;32m    524\u001b[0m         \u001b[0;32melse\u001b[0m\u001b[0;34m:\u001b[0m\u001b[0;34m\u001b[0m\u001b[0m\n\u001b[1;32m    525\u001b[0m             \u001b[0;32mreturn\u001b[0m \u001b[0;34m[\u001b[0m\u001b[0;32mNone\u001b[0m \u001b[0;32mif\u001b[0m \u001b[0mx\u001b[0m \u001b[0;32mis\u001b[0m \u001b[0;32mNone\u001b[0m \u001b[0;32melse\u001b[0m \u001b[0mx\u001b[0m\u001b[0;34m[\u001b[0m\u001b[0mstart\u001b[0m\u001b[0;34m:\u001b[0m\u001b[0mstop\u001b[0m\u001b[0;34m]\u001b[0m \u001b[0;32mfor\u001b[0m \u001b[0mx\u001b[0m \u001b[0;32min\u001b[0m \u001b[0marrays\u001b[0m\u001b[0;34m]\u001b[0m\u001b[0;34m\u001b[0m\u001b[0m\n",
      "\u001b[0;31mKeyboardInterrupt\u001b[0m: "
     ]
    }
   ],
   "source": [
    "stats = model.fit(X_train, y_train, epochs=400, batch_size=250, validation_data=(X_val, y_val))"
   ]
  },
  {
   "cell_type": "markdown",
   "metadata": {},
   "source": [
    "## Predict"
   ]
  },
  {
   "cell_type": "code",
   "execution_count": null,
   "metadata": {},
   "outputs": [],
   "source": [
    "model.save('allirisavtoat.hdf5')\n",
    "#from keras.utils import load_model\n",
    "\n",
    "model = load_model('allirisavtoat.hdf5')"
   ]
  },
  {
   "cell_type": "code",
   "execution_count": null,
   "metadata": {},
   "outputs": [],
   "source": [
    "y_pred = model.predict(X_val) # X_val could be new data too?\n",
    "# Inverse-normalize\n",
    "y_val = y_val*stdv_y + mean_y\n",
    "y_pred = y_pred*stdv_y + mean_y"
   ]
  },
  {
   "cell_type": "code",
   "execution_count": null,
   "metadata": {},
   "outputs": [],
   "source": [
    "#TO evaluate the model not the predictions\n",
    "\n",
    "#kfold = KFold(n_splits=10, shuffle=True, random_state=7)\n",
    "#results = cross_val_score(model, X_val, y_val, cv=kfold)\n",
    "#print (results)\n",
    "#print(cross_val_score)\n",
    "#print(\"Baseline: %.2f%% (%.2f%%)\" % (results.mean()*100, results.std()*100))"
   ]
  },
  {
   "cell_type": "code",
   "execution_count": null,
   "metadata": {},
   "outputs": [],
   "source": [
    "print(y_val.shape)\n",
    "y_pred = y_pred.flatten()\n",
    "\n",
    "print(y_pred)\n",
    "fig, ax = plt.subplots()\n",
    "print(distance_val.shape)\n",
    "y_val = (1/y_val)*(distance_val)\n",
    "y_pred = (1/y_pred)*(distance_val)\n",
    "\n",
    "\n",
    "\n",
    "v_min = min(np.min(y_val), np.min(y_pred))\n",
    "v_max = max(np.max(y_val), np.max(y_pred))\n",
    "x = np.linspace(v_min, v_max, 1000)\n",
    "\n",
    "y_val = abs(y_val)\n",
    "y_pred = abs(y_pred)\n",
    "\n",
    "\n",
    "###converting back to arrival times\n",
    "\n",
    "#y_val = (1/y_val)*(distance_val)\n",
    "#y_pred = (1/y_pred)*(distance_val)\n",
    "\n",
    "\n",
    "ax.plot(y_val, y_pred, '.')\n",
    "ax.plot(x, x)\n",
    "ax.set(xlabel='Prediction', ylabel='True')\n",
    "\n",
    "fig.tight_layout()\n",
    "plt.savefig('allirisAVtoAT.png', dpi =300,bbox_inches='tight')\n",
    "plt.show()"
   ]
  },
  {
   "cell_type": "code",
   "execution_count": null,
   "metadata": {},
   "outputs": [],
   "source": [
    "x = np.linspace(v_min, v_max, 1000)\n",
    "fig2, ax, = plt.subplots()\n",
    "x_bins = np.logspace(np.log10(y_val.min()), np.log10(y_val.max()),np.sqrt(15000)) #12279\n",
    "y_bins = np.logspace(np.log10(y_pred.min()), np.log10(y_pred.max()),np.sqrt(15000))\n",
    "H, xedges, yedges = np.histogram2d(y_val, y_pred, bins=[x_bins,y_bins])\n",
    "#ax2 = fig.add_subplot(212)\n",
    "h = ax.pcolormesh(xedges, yedges, H.T)\n",
    "#ax.set_aspect('equal')\n",
    "#ax.set(adjustable='box-forced', aspect='equal')\n",
    "#a2.imshow(img, origin='lower', extent=extent, aspect='auto')\n",
    "#ax.set_xscale('log')\n",
    "#ax.set_yscale('log')\n",
    "ax.axis([yedges.min(),yedges.max(),yedges.min(),yedges.max()])\n",
    "ax.set(ylabel='Predicted arrival times [s]', xlabel='Actual Arrival times [s]',title = 'Actual vs. predicted arrival times')\n",
    "\n",
    "\n",
    "\n",
    "\n",
    "cbar = plt.colorbar(h, ax=ax)\n",
    "ax.plot(x, x, c='r',linewidth=.5)\n",
    "#ax.set_ylim([0, 10e-2])\n",
    "#ax.set_xlim([0, 10e-2])\n",
    "#ax.set_aspect('equal')\n",
    "#cbar =plt.colorbar()\n",
    "#cbar.ax.set_ylabel('Counts')\n",
    "cbar.set_label('Counts', rotation=270,labelpad=9)\n",
    "\n",
    "fig.tight_layout()\n",
    "ax.set(adjustable='box', aspect='equal')\n",
    "plt.savefig('allirisAVtoATdensity.png', dpi =300,bbox_inches='tight')\n",
    "\n",
    "plt.show()"
   ]
  },
  {
   "cell_type": "code",
   "execution_count": null,
   "metadata": {},
   "outputs": [],
   "source": [
    "z = np.array(abs((y_val -y_pred)/y_val))\n",
    "\n",
    "print(z)\n",
    "print(z.shape)\n",
    "print(np.min(z))\n",
    "print(np.max(z))\n",
    "print (np.average(z))\n",
    "#x_bins = np.logspace(np.log10(antiy_val.min()), np.log10(antiy_val.max()),np.sqrt(12279))\n",
    "#y_bins = np.logspace(np.log10(antiy_pred.min()), np.log10(antiy_pred.max()),np.sqrt(12279))\n",
    "plt.hist(z, bins=30,range =[0,1.0], facecolor='blue', alpha=0.5)\n",
    "#plt.ylim(0,24000)\n",
    "yticks(range(0, 30000))\n",
    "plt.xlabel('(Predicted-Actual)/Actual Error')\n",
    "plt.ylabel('Counts')\n",
    "plt.title('Predicted Arrival times amount falling within error')\n",
    "plt.savefig('allirisAVtoAThist.png', dpi =300,bbox_inches='tight')\n",
    "plt.show()"
   ]
  },
  {
   "cell_type": "code",
   "execution_count": null,
   "metadata": {},
   "outputs": [],
   "source": [
    "#to check if target is uniformly distributed (input data not predicted) \n",
    "\n",
    "#weights = (np.ones_like(y_pred)/float(len(y_pred)))*100\n",
    "#bins =100\n",
    "#plt.hist(y, bins=bins, facecolor='blue', alpha=0.5)\n",
    "#plt.xlabel('EQ ground velocities [meters/seconds]')"
   ]
  },
  {
   "cell_type": "code",
   "execution_count": null,
   "metadata": {},
   "outputs": [],
   "source": [
    "#plt.plot(stats.history['rmse'])\n",
    "#plt.xlabel('Counts')\n",
    "#plt.ylabel('rmse')\n",
    "#plt.title('Root mean square error for Average Velocity')\n",
    "#plt.savefig('iwAVATrmse1.png', dpi =300,bbox_inches='tight')\n",
    "#plt.show()"
   ]
  },
  {
   "cell_type": "code",
   "execution_count": null,
   "metadata": {},
   "outputs": [],
   "source": []
  },
  {
   "cell_type": "code",
   "execution_count": null,
   "metadata": {},
   "outputs": [],
   "source": []
  },
  {
   "cell_type": "code",
   "execution_count": null,
   "metadata": {},
   "outputs": [],
   "source": []
  }
 ],
 "metadata": {
  "kernelspec": {
   "display_name": "Python 3",
   "language": "python",
   "name": "python3"
  },
  "language_info": {
   "codemirror_mode": {
    "name": "ipython",
    "version": 3
   },
   "file_extension": ".py",
   "mimetype": "text/x-python",
   "name": "python",
   "nbconvert_exporter": "python",
   "pygments_lexer": "ipython3",
   "version": "3.6.6"
  }
 },
 "nbformat": 4,
 "nbformat_minor": 2
}
