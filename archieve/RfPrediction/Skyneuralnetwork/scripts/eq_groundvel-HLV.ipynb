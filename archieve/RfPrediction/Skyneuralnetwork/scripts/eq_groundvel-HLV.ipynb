{
 "cells": [
  {
   "cell_type": "code",
   "execution_count": 1,
   "metadata": {},
   "outputs": [
    {
     "name": "stderr",
     "output_type": "stream",
     "text": [
      "Using TensorFlow backend.\n"
     ]
    }
   ],
   "source": [
    "%matplotlib inline\n",
    "\n",
    "import matplotlib as mpl\n",
    "import matplotlib.pyplot as plt\n",
    "\n",
    "mpl.rc('font', size=15)\n",
    "mpl.rc('figure', figsize=(8, 5))\n",
    "\n",
    "import numpy as np\n",
    "import scipy.signal as sig\n",
    "import keras\n",
    "\n",
    "from keras.layers import Input, Dense, Activation, Dropout\n",
    "from keras.models import Model\n",
    "from keras.layers.advanced_activations import ELU\n",
    "from keras import regularizers\n",
    "from keras.models import load_model\n",
    "from keras.initializers import glorot_normal, glorot_uniform\n",
    "from keras.optimizers import Adam\n",
    "\n",
    "from mpl_toolkits.basemap import Basemap\n",
    "from matplotlib.path import Path\n",
    "\n"
   ]
  },
  {
   "cell_type": "markdown",
   "metadata": {},
   "source": [
    "## Load data and Preprocessing"
   ]
  },
  {
   "cell_type": "code",
   "execution_count": 2,
   "metadata": {},
   "outputs": [],
   "source": [
    "# fix random seed for reproducibility\n",
    "np.random.seed(7)\n",
    "\n",
    "# Load data and exclude nan value\n",
    "data = np.genfromtxt('L1O1O2_GPR_earthquakes.txt')\n",
    "#data1 = np.genfromtxt('Hanfordtestdata.txt')"
   ]
  },
  {
   "cell_type": "code",
   "execution_count": 3,
   "metadata": {},
   "outputs": [
    {
     "name": "stdout",
     "output_type": "stream",
     "text": [
      "2889\n"
     ]
    }
   ],
   "source": [
    "#####maybe if we cut out the  P waves we can get better results## \n",
    "#going to chooose 6000 \n",
    "\n",
    "#eqgpstime = data[:,0]\n",
    "#peakgpstime = data[:,24]\n",
    "#arrivaltime = np.subtract(peakgpstime,eqgpstime)\n",
    "#distance = data[:,12]\n",
    "#Velocity = np.divide(distance, arrivaltime)\n",
    "#pwaveomit = 6000\n",
    "#Velocity1 = Velocity[Velocity<6000]\n",
    "#data = data[Velocity<6000]\n",
    "print (len(data))"
   ]
  },
  {
   "cell_type": "code",
   "execution_count": 4,
   "metadata": {},
   "outputs": [],
   "source": [
    "\n",
    "\n",
    "########cutting to only use western hemi data, not needed for IRISwest.txt##########\n",
    "######side note for sky, refernces w/ [:,] instead of np.array\n",
    "#print(len(data1))\n",
    "#eq_lon1 =data1[:,11]\n",
    "#print(eq_lon1)\n",
    "#data = data1[(eq_lon1>=-180) & (eq_lon1<=-30)]\n",
    "#print(len(data))\n",
    "#########cutting out ocean points ############\n",
    "\n",
    "#eq_lat2 = data[:,11]\n",
    "#eq_lon2 = data[:,12]\n",
    "#map1 = Basemap(projection='aeqd', lon_0 = 10, lat_0 = 50, resolution='h')\n",
    "#lats = eq_lat2  #[:100]                                                                                                        \\\n",
    "                                                                                                                                \n",
    "#lons = eq_lon2\n",
    "#x, y = map1(lons, lats)\n",
    "#locations = np.c_[x, y]\n",
    "#polygons = [Path(p.boundary) for p in map1.landpolygons]\n",
    "#result = np.zeros(len(locations), dtype=bool)\n",
    "#for polygon in polygons:\n",
    " #   result += np.array(polygon.contains_points(locations))\n",
    "\n",
    "#eq_lat1=lats[result]\n",
    "#eq_lon1=lons[result]\n",
    "#print (len(data))\n",
    "#print (result)\n",
    "#data =data[result]\n",
    "#print (len(data))\n",
    "\n",
    "\n"
   ]
  },
  {
   "cell_type": "code",
   "execution_count": 5,
   "metadata": {},
   "outputs": [
    {
     "name": "stdout",
     "output_type": "stream",
     "text": [
      "(363,)\n",
      "\n",
      "X_train shape: (290, 6)\n",
      "y_train shape: (290,)\n",
      "X_val shape: (73, 6)\n",
      "y_val shape: (73,)\n"
     ]
    }
   ],
   "source": [
    "# Extract X and y and divide into train, val, and test set\n",
    "#X = data[:, [2, 11, 12, 13, 14, 15]] #iris   #side note nikils has log10distnace maybe we should try that\n",
    "X = data[:, [1, 10, 11, 12, 13, 14]] #L10102, H10102, V10102\n",
    "#side note nikils has log10distnace maybe we should try that\n",
    "#X = data1[:, [0, 1, 2, 3, 4, 5]] #from Handford test data with log10 distance\n",
    "\n",
    "#y = np.log10(data[:, 18]) #iris \n",
    "y = np.log10(data[:, 25]) #L10102, H10102, V10102\n",
    "\n",
    "\n",
    "# Data preprocessing\n",
    "# Exclude bad data\n",
    "#z = np.log10(1e-6)\n",
    "mask = y > -6.0 #-6.5 #(tri's orig)\n",
    "#mask = y > 1e-6\n",
    "y = y[mask]\n",
    "X = X[mask]\n",
    "\n",
    "###if i were to try and test on all data (good or bad idea?)\n",
    "\n",
    "print(y.shape)\n",
    "\n",
    "# Normalizing\n",
    "X -= np.mean(X, axis=0) #these standard deviations need to be changed if im not doing log?\n",
    "X /= np.std(X, axis=0)\n",
    "\n",
    "mean_y = np.mean(y, axis=0)\n",
    "stdv_y = np.std(y, axis=0)\n",
    "y = (y-mean_y)/stdv_y\n",
    "\n",
    "# Shuffle and divide into train and val set\n",
    "mask = np.random.permutation(X.shape[0]) #(does this work with seed)\n",
    "X = X[mask]\n",
    "y = y[mask]\n",
    "\n",
    "tfrac = int(0.8*y.size) \n",
    "X_train = X[:tfrac]\n",
    "y_train = y[:tfrac]\n",
    "X_val = X[tfrac:]\n",
    "y_val = y[tfrac:]\n",
    "\n",
    "#trying to test against all of itself\n",
    "#tfrac = int(1*y.size) \n",
    "#X_train = X[:tfrac]\n",
    "#y_train = y[:tfrac]\n",
    "#X_val = X[:tfrac]\n",
    "#y_val = y[:tfrac]\n",
    "\n",
    "\n",
    "\n",
    "print('')\n",
    "print('X_train shape: {}'.format(X_train.shape))\n",
    "print('y_train shape: {}'.format(y_train.shape))\n",
    "print('X_val shape: {}'.format(X_val.shape))\n",
    "print('y_val shape: {}'.format(y_val.shape))"
   ]
  },
  {
   "cell_type": "markdown",
   "metadata": {},
   "source": [
    "## Create a DENSE network"
   ]
  },
  {
   "cell_type": "code",
   "execution_count": 6,
   "metadata": {},
   "outputs": [],
   "source": [
    "def QuakeNet(input_shape, lr=1e-4, reg=0.00, dropout=0.2):\n",
    "      #orig (input_shape, lr=1e-3, reg=0.00, dropout=0.0)\n",
    "    X_input = Input(input_shape)\n",
    "    \n",
    "    X = Dense(512, kernel_regularizer=regularizers.l2(reg),\n",
    "              activation='relu')(X_input) \n",
    "    \n",
    "    X = Dense(256, kernel_regularizer=regularizers.l2(reg),\n",
    "              activation='relu')(X) \n",
    "    X = Dense(128, kernel_regularizer=regularizers.l2(reg),\n",
    "              activation='relu')(X)\n",
    "    ####X = Dense(16, kernel_regularizer=regularizers.l2(reg),\n",
    "       ###    #   activation='sigmoid')(X)\n",
    "    X = Dense(64, kernel_regularizer=regularizers.l2(reg),\n",
    "             activation='relu')(X)       \n",
    "    \n",
    "    X = Dense(32, kernel_regularizer=regularizers.l2(reg),\n",
    "             activation='relu')(X)\n",
    "    X = Dense(16, kernel_regularizer=regularizers.l2(reg),\n",
    "              activation='relu')(X)\n",
    "    X = Dense(8, kernel_regularizer=regularizers.l2(reg),\n",
    "              activation='relu')(X)\n",
    "  #  X = Dense(, kernel_regularizer=regularizers.l2(reg),\n",
    "           #   activation='relu')(X)\n",
    "    X = Dropout(rate=dropout)(X)\n",
    "    X = Dense(1, kernel_regularizer=regularizers.l2(reg))(X)\n",
    "\n",
    "    model = Model(inputs=X_input, outputs=X, name='QuakeNet')\n",
    "    model.compile(optimizer=Adam(lr=lr), loss='mse')\n",
    "#    \n",
    "    return model"
   ]
  },
  {
   "cell_type": "code",
   "execution_count": 7,
   "metadata": {},
   "outputs": [
    {
     "name": "stdout",
     "output_type": "stream",
     "text": [
      "_________________________________________________________________\n",
      "Layer (type)                 Output Shape              Param #   \n",
      "=================================================================\n",
      "input_1 (InputLayer)         (None, 6)                 0         \n",
      "_________________________________________________________________\n",
      "dense_1 (Dense)              (None, 512)               3584      \n",
      "_________________________________________________________________\n",
      "dense_2 (Dense)              (None, 256)               131328    \n",
      "_________________________________________________________________\n",
      "dense_3 (Dense)              (None, 128)               32896     \n",
      "_________________________________________________________________\n",
      "dense_4 (Dense)              (None, 64)                8256      \n",
      "_________________________________________________________________\n",
      "dense_5 (Dense)              (None, 32)                2080      \n",
      "_________________________________________________________________\n",
      "dense_6 (Dense)              (None, 16)                528       \n",
      "_________________________________________________________________\n",
      "dense_7 (Dense)              (None, 8)                 136       \n",
      "_________________________________________________________________\n",
      "dropout_1 (Dropout)          (None, 8)                 0         \n",
      "_________________________________________________________________\n",
      "dense_8 (Dense)              (None, 1)                 9         \n",
      "=================================================================\n",
      "Total params: 178,817\n",
      "Trainable params: 178,817\n",
      "Non-trainable params: 0\n",
      "_________________________________________________________________\n"
     ]
    }
   ],
   "source": [
    "input_shape = (X_train.shape[1], )\n",
    "model = QuakeNet(input_shape=input_shape)\n",
    "model.summary()"
   ]
  },
  {
   "cell_type": "markdown",
   "metadata": {},
   "source": [
    "## Train"
   ]
  },
  {
   "cell_type": "code",
   "execution_count": 8,
   "metadata": {},
   "outputs": [
    {
     "name": "stdout",
     "output_type": "stream",
     "text": [
      "Train on 290 samples, validate on 73 samples\n",
      "Epoch 1/50\n",
      "290/290 [==============================] - 1s 2ms/step - loss: 0.9962 - val_loss: 0.9072\n",
      "Epoch 2/50\n",
      "290/290 [==============================] - 0s 110us/step - loss: 0.9472 - val_loss: 0.8663\n",
      "Epoch 3/50\n",
      "290/290 [==============================] - 0s 115us/step - loss: 0.8864 - val_loss: 0.8313\n",
      "Epoch 4/50\n",
      "290/290 [==============================] - 0s 117us/step - loss: 0.8532 - val_loss: 0.7989\n",
      "Epoch 5/50\n",
      "290/290 [==============================] - 0s 114us/step - loss: 0.8355 - val_loss: 0.7690\n",
      "Epoch 6/50\n",
      "290/290 [==============================] - 0s 107us/step - loss: 0.7891 - val_loss: 0.7498\n",
      "Epoch 7/50\n",
      "290/290 [==============================] - 0s 493us/step - loss: 0.7700 - val_loss: 0.7219\n",
      "Epoch 8/50\n",
      "290/290 [==============================] - 0s 133us/step - loss: 0.7451 - val_loss: 0.6847\n",
      "Epoch 9/50\n",
      "290/290 [==============================] - 0s 127us/step - loss: 0.6899 - val_loss: 0.6417\n",
      "Epoch 10/50\n",
      "290/290 [==============================] - 0s 113us/step - loss: 0.6982 - val_loss: 0.5960\n",
      "Epoch 11/50\n",
      "290/290 [==============================] - 0s 150us/step - loss: 0.6348 - val_loss: 0.5707\n",
      "Epoch 12/50\n",
      "290/290 [==============================] - 0s 130us/step - loss: 0.6134 - val_loss: 0.5505\n",
      "Epoch 13/50\n",
      "290/290 [==============================] - 0s 129us/step - loss: 0.5907 - val_loss: 0.5223\n",
      "Epoch 14/50\n",
      "290/290 [==============================] - 0s 105us/step - loss: 0.5159 - val_loss: 0.4949\n",
      "Epoch 15/50\n",
      "290/290 [==============================] - 0s 99us/step - loss: 0.5138 - val_loss: 0.4662\n",
      "Epoch 16/50\n",
      "290/290 [==============================] - 0s 110us/step - loss: 0.4946 - val_loss: 0.4410\n",
      "Epoch 17/50\n",
      "290/290 [==============================] - 0s 127us/step - loss: 0.4542 - val_loss: 0.4009\n",
      "Epoch 18/50\n",
      "290/290 [==============================] - 0s 123us/step - loss: 0.4317 - val_loss: 0.3852\n",
      "Epoch 19/50\n",
      "290/290 [==============================] - 0s 160us/step - loss: 0.3647 - val_loss: 0.3744\n",
      "Epoch 20/50\n",
      "290/290 [==============================] - 0s 145us/step - loss: 0.3644 - val_loss: 0.3568\n",
      "Epoch 21/50\n",
      "290/290 [==============================] - 0s 133us/step - loss: 0.3648 - val_loss: 0.3342\n",
      "Epoch 22/50\n",
      "290/290 [==============================] - 0s 112us/step - loss: 0.3810 - val_loss: 0.3455\n",
      "Epoch 23/50\n",
      "290/290 [==============================] - 0s 143us/step - loss: 0.3396 - val_loss: 0.3240\n",
      "Epoch 24/50\n",
      "290/290 [==============================] - 0s 118us/step - loss: 0.2893 - val_loss: 0.3218\n",
      "Epoch 25/50\n",
      "290/290 [==============================] - 0s 115us/step - loss: 0.2938 - val_loss: 0.2984\n",
      "Epoch 26/50\n",
      "290/290 [==============================] - 0s 106us/step - loss: 0.3180 - val_loss: 0.3017\n",
      "Epoch 27/50\n",
      "290/290 [==============================] - 0s 100us/step - loss: 0.3030 - val_loss: 0.2974\n",
      "Epoch 28/50\n",
      "290/290 [==============================] - 0s 119us/step - loss: 0.2915 - val_loss: 0.2987\n",
      "Epoch 29/50\n",
      "290/290 [==============================] - 0s 188us/step - loss: 0.2850 - val_loss: 0.2995\n",
      "Epoch 30/50\n",
      "290/290 [==============================] - 0s 125us/step - loss: 0.3191 - val_loss: 0.3050\n",
      "Epoch 31/50\n",
      "290/290 [==============================] - 0s 105us/step - loss: 0.3134 - val_loss: 0.2994\n",
      "Epoch 32/50\n",
      "290/290 [==============================] - 0s 104us/step - loss: 0.2949 - val_loss: 0.2906\n",
      "Epoch 33/50\n",
      "290/290 [==============================] - 0s 111us/step - loss: 0.2931 - val_loss: 0.3360\n",
      "Epoch 34/50\n",
      "290/290 [==============================] - 0s 99us/step - loss: 0.3218 - val_loss: 0.3311\n",
      "Epoch 35/50\n",
      "290/290 [==============================] - 0s 100us/step - loss: 0.2764 - val_loss: 0.3074\n",
      "Epoch 36/50\n",
      "290/290 [==============================] - 0s 95us/step - loss: 0.2861 - val_loss: 0.3119\n",
      "Epoch 37/50\n",
      "290/290 [==============================] - 0s 95us/step - loss: 0.2456 - val_loss: 0.3064\n",
      "Epoch 38/50\n",
      "290/290 [==============================] - 0s 96us/step - loss: 0.2994 - val_loss: 0.3024\n",
      "Epoch 39/50\n",
      "290/290 [==============================] - 0s 96us/step - loss: 0.2496 - val_loss: 0.3258\n",
      "Epoch 40/50\n",
      "290/290 [==============================] - 0s 96us/step - loss: 0.2960 - val_loss: 0.3178\n",
      "Epoch 41/50\n",
      "290/290 [==============================] - 0s 96us/step - loss: 0.2314 - val_loss: 0.3023\n",
      "Epoch 42/50\n",
      "290/290 [==============================] - 0s 115us/step - loss: 0.2847 - val_loss: 0.3023\n",
      "Epoch 43/50\n",
      "290/290 [==============================] - 0s 98us/step - loss: 0.2612 - val_loss: 0.3184\n",
      "Epoch 44/50\n",
      "290/290 [==============================] - 0s 96us/step - loss: 0.2376 - val_loss: 0.3262\n",
      "Epoch 45/50\n",
      "290/290 [==============================] - 0s 102us/step - loss: 0.2664 - val_loss: 0.3177\n",
      "Epoch 46/50\n",
      "290/290 [==============================] - 0s 94us/step - loss: 0.2204 - val_loss: 0.3212\n",
      "Epoch 47/50\n",
      "290/290 [==============================] - 0s 95us/step - loss: 0.2690 - val_loss: 0.3081\n",
      "Epoch 48/50\n",
      "290/290 [==============================] - 0s 93us/step - loss: 0.2766 - val_loss: 0.3076\n",
      "Epoch 49/50\n",
      "290/290 [==============================] - 0s 99us/step - loss: 0.2471 - val_loss: 0.3096\n",
      "Epoch 50/50\n",
      "290/290 [==============================] - 0s 102us/step - loss: 0.2618 - val_loss: 0.3062\n"
     ]
    }
   ],
   "source": [
    "stats = model.fit(X_train, y_train, epochs=50, batch_size=32, validation_data=(X_val, y_val))"
   ]
  },
  {
   "cell_type": "markdown",
   "metadata": {},
   "source": [
    "## Predict"
   ]
  },
  {
   "cell_type": "code",
   "execution_count": 9,
   "metadata": {},
   "outputs": [],
   "source": [
    "model.save('livgv1.hdf5')\n",
    "#from keras.model import load_model\n",
    "\n",
    "model = load_model('livgv1.hdf5')"
   ]
  },
  {
   "cell_type": "code",
   "execution_count": 10,
   "metadata": {},
   "outputs": [],
   "source": [
    "y_pred = model.predict(X_val) # X_val could be new data too?\n",
    "# Inverse-normalize\n",
    "y_val = y_val*stdv_y + mean_y\n",
    "y_pred = y_pred*stdv_y + mean_y"
   ]
  },
  {
   "cell_type": "code",
   "execution_count": 11,
   "metadata": {},
   "outputs": [
    {
     "name": "stdout",
     "output_type": "stream",
     "text": [
      "(73,)\n"
     ]
    },
    {
     "name": "stderr",
     "output_type": "stream",
     "text": [
      "/anaconda3/envs/ligo/lib/python3.6/site-packages/matplotlib/axes/_base.py:1400: MatplotlibDeprecationWarning: The 'box-forced' keyword argument is deprecated since 2.2.\n",
      "  \" since 2.2.\", cbook.mplDeprecation)\n"
     ]
    },
    {
     "data": {
      "image/png": "[encoded data removed]",
      "text/plain": [
       "<Figure size 432x288 with 1 Axes>"
      ]
     },
     "metadata": {},
     "output_type": "display_data"
    }
   ],
   "source": [
    "print(y_val.shape)\n",
    "y_pred = y_pred.flatten()\n",
    "\n",
    "absy_val = abs(y_val)\n",
    "absy_pred = abs(y_pred)\n",
    "\n",
    "#taking antilog so we can see what we are used too \n",
    "antiy_val = 10**y_val\n",
    "antiy_pred = 10**y_pred\n",
    "\n",
    "v_min = min(np.min(antiy_val), np.min(antiy_pred))\n",
    "v_max = max(np.max(antiy_val), np.max(antiy_pred))\n",
    "x = np.linspace(v_min, v_max, 1000)\n",
    "\n",
    "fig, ax = plt.subplots()\n",
    "\n",
    "ax.loglog(antiy_val, antiy_pred, '.')\n",
    "ax.plot(x, x)\n",
    "ax.set(ylabel='Predicted ground velocity [m/s]', xlabel='Actual ground velocity [m/s]',title = 'Hanford Actual vs. predicted ground velocities' )\n",
    "ax.set(adjustable='box-forced', aspect='equal')\n",
    "#ax.axis([yedges.min(),yedges.max(),yedges.min(),yedges.max()])\n",
    "fig.tight_layout()\n",
    "\n",
    "plt.savefig('livgroundvel.png', dpi =300,bbox_inches='tight')\n",
    "#plt.show()\n",
    "\n"
   ]
  },
  {
   "cell_type": "code",
   "execution_count": 12,
   "metadata": {},
   "outputs": [
    {
     "data": {
      "image/png": "[encoded data removed]",
      "text/plain": [
       "<Figure size 432x288 with 2 Axes>"
      ]
     },
     "metadata": {},
     "output_type": "display_data"
    }
   ],
   "source": [
    "x = np.linspace(v_min, v_max, 1000)\n",
    "fig2, ax, = plt.subplots()\n",
    "x_bins = np.logspace(np.log10(antiy_val.min()), np.log10(10e-3),np.sqrt(5000)) #12279\n",
    "y_bins = np.logspace(np.log10(antiy_pred.min()), np.log10(10e-3),np.sqrt(5000))\n",
    "H, xedges, yedges = np.histogram2d(antiy_val, antiy_pred, bins=[x_bins,y_bins])\n",
    "#ax2 = fig.add_subplot(212)\n",
    "h = ax.pcolormesh(xedges, yedges, H.T)\n",
    "#ax.set_aspect('equal')\n",
    "#ax.set(adjustable='box-forced', aspect='equal')\n",
    "#a2.imshow(img, origin='lower', extent=extent, aspect='auto')\n",
    "ax.set_xscale('log')\n",
    "ax.set_yscale('log')\n",
    "ax.axis([yedges.min(),yedges.max(),yedges.min(),yedges.max()])\n",
    "ax.set(ylabel='Predicted ground velocity [m/s]', xlabel='Actual ground velocity [m/s]',title = 'Hanford Actual vs. predicted ground velocities')\n",
    "\n",
    "\n",
    "\n",
    "\n",
    "cbar = plt.colorbar(h, ax=ax)\n",
    "ax.plot(x, x, c='r',linewidth=.5)\n",
    "#ax.set_ylim([0, 10e-2])\n",
    "#ax.set_xlim([0, 10e-2])\n",
    "#ax.set_aspect('equal')\n",
    "#cbar =plt.colorbar()\n",
    "#cbar.ax.set_ylabel('Counts')\n",
    "cbar.set_label('Counts', rotation=270,labelpad=9)\n",
    "\n",
    "fig.tight_layout()\n",
    "ax.set(adjustable='box', aspect='equal')\n",
    "plt.savefig('livgroundvelensity.png', dpi =300,bbox_inches='tight')\n",
    "\n",
    "plt.show()"
   ]
  },
  {
   "cell_type": "code",
   "execution_count": 13,
   "metadata": {},
   "outputs": [
    {
     "name": "stdout",
     "output_type": "stream",
     "text": [
      "[0.06150122 0.08215482 1.42354326 0.24086851 0.46309096 3.09549364\n",
      " 0.63463831 0.76165411 0.56996357 0.09142018 0.26594776 0.08666866\n",
      " 0.06398617 0.73946764 0.01251021 0.92580615 0.63988586 0.76221772\n",
      " 0.4956137  0.54229387 0.16774504 0.07620136 0.21076211 0.57285204\n",
      " 0.31041056 0.60582667 0.14299078 0.57612886 0.30810588 0.3290228\n",
      " 0.533094   0.07036187 0.6724819  0.78605747 0.1676772  0.49149376\n",
      " 0.21428206 0.48638666 0.69098626 0.06539639 1.13037711 0.84967299\n",
      " 0.10052513 0.00720775 0.1339088  0.68551133 0.32900788 0.00962393\n",
      " 0.09438347 0.44110641 0.10099506 0.79749612 0.38556497 0.68251549\n",
      " 0.85596513 0.17139426 0.65644309 0.51734564 0.13716473 0.57583113\n",
      " 0.1534278  0.89720164 0.52013536 0.50901337 0.66743598 0.55567281\n",
      " 0.89606285 0.00549657 1.09221091 0.56207482 0.02164058 0.51753846\n",
      " 0.25485218]\n",
      "(73,)\n",
      "0.005496565395213271\n",
      "3.0954936413440843\n",
      "0.47605196947064055\n"
     ]
    },
    {
     "data": {
      "image/png": "[encoded data removed]",
      "text/plain": [
       "<Figure size 432x288 with 1 Axes>"
      ]
     },
     "metadata": {},
     "output_type": "display_data"
    }
   ],
   "source": [
    "z = np.array(abs((antiy_val -antiy_pred)/antiy_val))\n",
    "\n",
    "print(z)\n",
    "print(z.shape)\n",
    "print(np.min(z))\n",
    "print(np.max(z))\n",
    "print (np.average(z))\n",
    "#x_bins = np.logspace(np.log10(antiy_val.min()), np.log10(antiy_val.max()),np.sqrt(12279))\n",
    "#y_bins = np.logspace(np.log10(antiy_pred.min()), np.log10(antiy_pred.max()),np.sqrt(12279))\n",
    "plt.hist(z, bins=30,range =[0,3.5], facecolor='blue', alpha=0.5)\n",
    "plt.xlabel('(Predicted-Actual)/Actual Error')\n",
    "plt.ylabel('Counts')\n",
    "plt.title('Predicted ground velocity falling within error')\n",
    "plt.savefig('livgroundvelhist1.png', dpi =300,bbox_inches='tight')\n",
    "plt.show()"
   ]
  },
  {
   "cell_type": "code",
   "execution_count": null,
   "metadata": {},
   "outputs": [],
   "source": []
  }
 ],
 "metadata": {
  "kernelspec": {
   "display_name": "Python 3",
   "language": "python",
   "name": "python3"
  },
  "language_info": {
   "codemirror_mode": {
    "name": "ipython",
    "version": 3
   },
   "file_extension": ".py",
   "mimetype": "text/x-python",
   "name": "python",
   "nbconvert_exporter": "python",
   "pygments_lexer": "ipython3",
   "version": "3.6.6"
  }
 },
 "nbformat": 4,
 "nbformat_minor": 2
}
