{
 "cells": [
  {
   "cell_type": "code",
   "execution_count": 1,
   "metadata": {},
   "outputs": [
    {
     "name": "stderr",
     "output_type": "stream",
     "text": [
      "Using TensorFlow backend.\n"
     ]
    }
   ],
   "source": [
    "%matplotlib inline\n",
    "\n",
    "import matplotlib as mpl\n",
    "import matplotlib.pyplot as plt\n",
    "\n",
    "mpl.rc('font', size=15)\n",
    "mpl.rc('figure', figsize=(8, 5))\n",
    "\n",
    "import numpy as np\n",
    "import scipy.signal as sig\n",
    "import keras\n",
    "import pandas\n",
    "import itertools\n",
    "from keras.models import Sequential\n",
    "from keras.layers import Input, Dense, Activation, Dropout\n",
    "from keras import regularizers\n",
    "#from keras.models import Model\n",
    "from keras.models import load_model\n",
    "from keras.initializers import glorot_normal, glorot_uniform\n",
    "from keras.optimizers import Adam\n",
    "from keras.wrappers.scikit_learn import KerasClassifier\n",
    "from keras.utils import np_utils\n",
    "from sklearn.model_selection import cross_val_score\n",
    "from sklearn.model_selection import KFold\n",
    "from sklearn.preprocessing import LabelEncoder\n",
    "from sklearn.metrics import confusion_matrix\n",
    "from sklearn.pipeline import Pipeline\n",
    "from mpl_toolkits.basemap import Basemap\n",
    "from matplotlib.path import Path\n",
    "from keras.models import model_from_json\n",
    "\n"
   ]
  },
  {
   "cell_type": "markdown",
   "metadata": {},
   "source": [
    "## Load data and Preprocessing"
   ]
  },
  {
   "cell_type": "code",
   "execution_count": 2,
   "metadata": {},
   "outputs": [],
   "source": [
    "# fix random seed for reproducibility\n",
    "np.random.seed(7)\n",
    "\n",
    "# Load data and exclude nan value\n",
    "data = np.genfromtxt('Livandhandata.txt')\n",
    "#data1 = np.genfromtxt('Hanfordtestdata.txt')"
   ]
  },
  {
   "cell_type": "code",
   "execution_count": 3,
   "metadata": {},
   "outputs": [],
   "source": [
    "#####maybe if we cut out the  P waves we can get better results## \n",
    "#going to chooose 6000 \n",
    "\n",
    "#eqgpstime = data[:,0]\n",
    "#peakgpstime = data[:,24]\n",
    "#arrivaltime = np.subtract(peakgpstime,eqgpstime)\n",
    "#distance = data[:,12]\n",
    "#Velocity = np.divide(distance, arrivaltime)\n",
    "#pwaveomit = 6000\n",
    "#Velocity1 = Velocity[Velocity<6000]\n",
    "#data = data[Velocity<6000]\n",
    "#print (len(data))"
   ]
  },
  {
   "cell_type": "code",
   "execution_count": 4,
   "metadata": {},
   "outputs": [],
   "source": [
    "\n",
    "\n",
    "########cutting to only use western hemi data, not needed for IRISwest.txt##########\n",
    "######side note for sky, refernces w/ [:,] instead of np.array\n",
    "#print(len(data))\n",
    "#eq_lon1 =data[:,11]\n",
    "#print(eq_lon1)\n",
    "#data = data[(eq_lon1>=-180) & (eq_lon1<=-30)]\n",
    "#print(len(data))\n",
    "#########cutting out ocean points ############\n",
    "\n",
    "#eq_lat2 = data[:,10]\n",
    "#eq_lon2 = data[:,11]\n",
    "#map1 = Basemap(projection='aeqd', lon_0 = 10, lat_0 = 50, resolution='h')\n",
    "#lats = eq_lat2  #[:100]                                                                                                        \\\n",
    "                                                                                                                                \n",
    "#lons = eq_lon2\n",
    "#x, y = map1(lons, lats)\n",
    "#locations = np.c_[x, y]\n",
    "#polygons = [Path(p.boundary) for p in map1.landpolygons]\n",
    "#result = np.zeros(len(locations), dtype=bool)\n",
    "#for polygon in polygons:\n",
    "#    result += np.array(polygon.contains_points(locations))\n",
    "\n",
    "#eq_lat1=lats[result]\n",
    "#eq_lon1=lons[result]\n",
    "#print (len(data))\n",
    "#print (result)\n",
    "#data =data[result]\n",
    "#print (len(data))\n",
    "\n",
    "\n"
   ]
  },
  {
   "cell_type": "code",
   "execution_count": 5,
   "metadata": {},
   "outputs": [
    {
     "name": "stdout",
     "output_type": "stream",
     "text": [
      "(4994, 3)\n",
      "(4994, 6)\n",
      "[[-1.15207458 -0.54994645 -1.65391792  0.13979203  1.32576037 -0.58350449]\n",
      " [-0.58029264 -0.91145803 -1.68303704  0.3916273   1.41960036 -0.56201709]\n",
      " [-0.58029264 -0.4692519  -1.65877111  0.11693588  2.18526824 -0.58427189]\n",
      " ...\n",
      " [ 5.13752675 -0.0916014   1.00562844  0.02668797  0.24618526 -0.70782444]\n",
      " [ 4.75633879  1.81278999  1.1293847  -1.39604936 -0.44723413 -0.50906599]\n",
      " [ 5.89990267 -0.96633033 -0.81593433 -0.03447433 -0.3525637   1.48542516]]\n",
      "[ 651 3498 3315 ...  537 1220 4271]\n",
      "(4994, 3)\n",
      "\n",
      "X_train shape: (3995, 6)\n",
      "y_train shape: (3995, 3)\n",
      "X_val shape: (999, 6)\n",
      "y_val shape: (999, 3)\n"
     ]
    }
   ],
   "source": [
    "# Extract X and y and divide into train, val, and test set\n",
    "#X = data[:, [2, 11, 12, 13, 14, 15]] #iris   #side note nikils has log10distnace maybe we should try that\n",
    "X = data[:, [1, 10, 11, 12, 13, 14]] #L10102, H10102, V10102\n",
    "#side note nikils has log10distnace maybe we should try that\n",
    "#X = data1[:, [0, 1, 2, 3, 4, 5]] #from Handford test data with log10 distance\n",
    "\n",
    "#y = np.log10(data[:, 18]) #iris \n",
    "#y = np.log10(data[:, 31]) #L10102, H10102, V10102\n",
    "pre_y = data[:, 31]\n",
    "z= np.log10(data[:, 25])\n",
    "# Data preprocessing\n",
    "# Exclude bad data\n",
    "#z = np.log10(1e-6)\n",
    "mask = z > -6.0 #-6.5 #(tri's orig)\n",
    "#mask = y > 1e-6\n",
    "#y = y[mask]\n",
    "\n",
    "\n",
    "#X = X[mask]\n",
    "#pre_y=pre_y[mask]\n",
    "# encode class values as integers\n",
    "encoder = LabelEncoder()\n",
    "encoder.fit(pre_y)\n",
    "encoded_Y = encoder.transform(pre_y)\n",
    "# convert integers to dummy variables (i.e. one hot encoded)\n",
    "y = np_utils.to_categorical(encoded_Y)\n",
    "\n",
    "\n",
    "\n",
    "\n",
    "print(y.shape)\n",
    "print(X.shape)\n",
    "# Normalizing\n",
    "X -= np.mean(X, axis=0) #these standard deviations need to be changed if im not doing log?\n",
    "X /= np.std(X, axis=0)\n",
    "print(X)\n",
    "\n",
    "#mean_y = np.mean(y, axis=0)\n",
    "#stdv_y = np.std(y, axis=0)\n",
    "#y = (y-mean_y)/stdv_y\n",
    "\n",
    "# Shuffle and divide into train and val set\n",
    "mask = np.random.permutation(X.shape[0]) #(does this work with seed)\n",
    "X = X[mask]\n",
    "y = y[mask]\n",
    "\n",
    "print(mask)\n",
    "#X =X#[:800]\n",
    "#y=y#[:800]\n",
    "print(y.shape)\n",
    "#tfrac = int(0.8*y.size) \n",
    "#X_train = X[:tfrac]\n",
    "#y_train = y[:tfrac]\n",
    "#X_val = X[tfrac:]\n",
    "#y_val = y[tfrac:]\n",
    "\n",
    "#trying to test against all of itself\n",
    "tfrac = int(0.8*len(y)) \n",
    "X_train = X[:tfrac]\n",
    "y_train = y[:tfrac]\n",
    "X_val = X[tfrac:]\n",
    "y_val = y[tfrac:]\n",
    "\n",
    "\n",
    "\n",
    "print('')\n",
    "print('X_train shape: {}'.format(X_train.shape))\n",
    "print('y_train shape: {}'.format(y_train.shape))\n",
    "print('X_val shape: {}'.format(X_val.shape))\n",
    "print('y_val shape: {}'.format(y_val.shape))"
   ]
  },
  {
   "cell_type": "markdown",
   "metadata": {},
   "source": [
    "## Create a DENSE network"
   ]
  },
  {
   "cell_type": "code",
   "execution_count": 6,
   "metadata": {},
   "outputs": [],
   "source": [
    "def Classifier():\n",
    "\n",
    "# define QuakeNet\n",
    "    def QuakeNet(input_dim=6, lr=1e-5, reg=0.1, dropout=0.2):\n",
    "    # create model\n",
    "        model = Sequential()\n",
    "        model.add(Dense(256, input_dim=input_dim, activation='relu'))\n",
    "        model.add(Dense(128, input_dim=input_dim , activation='relu'))\n",
    "        model.add(Dense(128, input_dim=input_dim, activation='relu'))\n",
    "        model.add(Dense(32, input_dim=input_dim, activation='relu'))\n",
    "        model.add(Dense(8, input_dim=input_dim, activation='relu'))\n",
    "        model.add(Dense(3, activation='softmax'))\n",
    "    # Compile model\n",
    "        model.compile(loss='categorical_crossentropy', optimizer='adam', metrics=['accuracy'])\n",
    "\n",
    "        return model\n",
    "        print (model.summary())\n",
    "    model = KerasClassifier(build_fn=QuakeNet, epochs=1000, batch_size=64, verbose=0)\n",
    "    return model\n",
    "#model.summary()"
   ]
  },
  {
   "cell_type": "code",
   "execution_count": 7,
   "metadata": {},
   "outputs": [],
   "source": [
    "#input_shape = (X_train.shape[1], )\n",
    "model = Classifier()\n",
    "#model.summary()"
   ]
  },
  {
   "cell_type": "code",
   "execution_count": 8,
   "metadata": {
    "scrolled": true
   },
   "outputs": [
    {
     "data": {
      "text/plain": [
       "\"def QuakeNet(input_shape, lr=1e-3, reg=0.00, dropout=0.5):\\n      #orig (input_shape, lr=1e-3, reg=0.00, dropout=0.0)\\n    X_input = Input(input_shape)\\n    \\n    X = Dense(8, kernel_regularizer=regularizers.l2(reg),\\n               activation='relu')(X_input) \\n    \\n    X = Dense(8, kernel_regularizer=regularizers.l2(reg),\\n               activation='relu')(X) \\n    X = Dense(8, kernel_regularizer=regularizers.l2(reg),\\n               activation='relu')(X)\\n    X = Dense(8, kernel_regularizer=regularizers.l2(reg),\\n               activation='relu')(X)\\n    X = Dense(3,kernel_regularizer=regularizers.l2(reg),\\n               activation='softmax')(X)       \\n    \\n   # X = Dense(2, kernel_regularizer=regularizers.l2(reg),\\n          #    activation='tanh')(X)\\n   # X = Dense(8, kernel_regularizer=regularizers.l2(reg),\\n   #           activation='sigmoid')(X)\\n   # X = Dense(8, kernel_regularizer=regularizers.l2(reg),\\n   #           activation='sigmoid')(X)\\n   # X = Dense(, kernel_regularizer=regularizers.l2(reg),\\n       #       activation='relu')(X)\\n    X = Dropout(rate=dropout)(X)\\n    X = Dense(3, kernel_regularizer=regularizers.l2(reg))(X)\\n\\n    model = Model(inputs=X_input, outputs=X, name='QuakeNet')\\n    model.compile(optimizer=Adam(lr=lr), loss='categorical_crossentropy')\\n    \\n    return model\\n\""
      ]
     },
     "execution_count": 8,
     "metadata": {},
     "output_type": "execute_result"
    }
   ],
   "source": [
    "'''def QuakeNet(input_shape, lr=1e-3, reg=0.00, dropout=0.5):\n",
    "      #orig (input_shape, lr=1e-3, reg=0.00, dropout=0.0)\n",
    "    X_input = Input(input_shape)\n",
    "    \n",
    "    X = Dense(8, kernel_regularizer=regularizers.l2(reg),\n",
    "               activation='relu')(X_input) \n",
    "    \n",
    "    X = Dense(8, kernel_regularizer=regularizers.l2(reg),\n",
    "               activation='relu')(X) \n",
    "    X = Dense(8, kernel_regularizer=regularizers.l2(reg),\n",
    "               activation='relu')(X)\n",
    "    X = Dense(8, kernel_regularizer=regularizers.l2(reg),\n",
    "               activation='relu')(X)\n",
    "    X = Dense(3,kernel_regularizer=regularizers.l2(reg),\n",
    "               activation='softmax')(X)       \n",
    "    \n",
    "   # X = Dense(2, kernel_regularizer=regularizers.l2(reg),\n",
    "          #    activation='tanh')(X)\n",
    "   # X = Dense(8, kernel_regularizer=regularizers.l2(reg),\n",
    "   #           activation='sigmoid')(X)\n",
    "   # X = Dense(8, kernel_regularizer=regularizers.l2(reg),\n",
    "   #           activation='sigmoid')(X)\n",
    "   # X = Dense(, kernel_regularizer=regularizers.l2(reg),\n",
    "       #       activation='relu')(X)\n",
    "    X = Dropout(rate=dropout)(X)\n",
    "    X = Dense(3, kernel_regularizer=regularizers.l2(reg))(X)\n",
    "\n",
    "    model = Model(inputs=X_input, outputs=X, name='QuakeNet')\n",
    "    model.compile(optimizer=Adam(lr=lr), loss='categorical_crossentropy')\n",
    "    \n",
    "    return model\n",
    "'''   "
   ]
  },
  {
   "cell_type": "code",
   "execution_count": 9,
   "metadata": {},
   "outputs": [],
   "source": [
    "#input_shape = (X_train.shape[1], )\n",
    "#model = QuakeNet(input_shape)\n",
    "#model.summary()"
   ]
  },
  {
   "cell_type": "code",
   "execution_count": 10,
   "metadata": {},
   "outputs": [
    {
     "name": "stdout",
     "output_type": "stream",
     "text": [
      "[0.46       0.51       0.46       0.49       0.51000001 0.47\n",
      " 0.5        0.51       0.46999999 0.48484849]\n",
      "<function cross_val_score at 0x1c2c4f50d0>\n",
      "Baseline: 48.65% (1.95%)\n"
     ]
    }
   ],
   "source": [
    "#To evaluate the model not the predictions\n",
    "\n",
    "kfold = KFold(n_splits=10, shuffle=True, random_state=7)\n",
    "results = cross_val_score(model, X_val, y_val, cv=kfold)\n",
    "print (results)\n",
    "print(cross_val_score)\n",
    "print(\"Baseline: %.2f%% (%.2f%%)\" % (results.mean()*100, results.std()*100))"
   ]
  },
  {
   "cell_type": "markdown",
   "metadata": {},
   "source": [
    "## Train"
   ]
  },
  {
   "cell_type": "code",
   "execution_count": 11,
   "metadata": {},
   "outputs": [
    {
     "data": {
      "text/plain": [
       "<keras.callbacks.History at 0x1c33812e48>"
      ]
     },
     "execution_count": 11,
     "metadata": {},
     "output_type": "execute_result"
    }
   ],
   "source": [
    "model.fit(X_train, y_train)"
   ]
  },
  {
   "cell_type": "markdown",
   "metadata": {},
   "source": [
    "## Predict"
   ]
  },
  {
   "cell_type": "code",
   "execution_count": 12,
   "metadata": {},
   "outputs": [
    {
     "name": "stdout",
     "output_type": "stream",
     "text": [
      "Loaded model from disk\n"
     ]
    }
   ],
   "source": [
    "#model=model.model.save('lockhlv1.hdf5')\n",
    "#model = load_model('lockhlv1.hdf5')\n",
    "\n",
    "## serialize model to JSON\n",
    "#model_json = model.model.to_json()\n",
    "#with open(\"lockvir1.json\", \"w\") as json_file:\n",
    "#    json_file.write(model_json)\n",
    "# serialize weights to HDF5\n",
    "#model.model.save_weights(\"lockvir1_weights.h5\")\n",
    "#print(\"Saved model to disk\")\n",
    " \n",
    "# later...\n",
    " \n",
    "# load json and create model\n",
    "json_file = open('lockliv1.json', 'r')\n",
    "loaded_model_json = json_file.read()\n",
    "json_file.close()\n",
    "loaded_model = model_from_json(loaded_model_json)\n",
    "#load weights into new model\n",
    "loaded_model.load_weights(\"lockliv1_weights.h5\")\n",
    "print(\"Loaded model from disk\")\n"
   ]
  },
  {
   "cell_type": "code",
   "execution_count": 13,
   "metadata": {
    "scrolled": true
   },
   "outputs": [
    {
     "name": "stdout",
     "output_type": "stream",
     "text": [
      "[[1. 0. 0.]\n",
      " [0. 1. 0.]\n",
      " [0. 1. 0.]\n",
      " ...\n",
      " [0. 1. 0.]\n",
      " [1. 0. 0.]\n",
      " [0. 1. 0.]]\n",
      "[[ 0.9444592  -0.32077393  1.10997195  0.50592986 -0.15990107 -0.56892375]\n",
      " [-0.58029264  1.30602821  0.06896339  0.17178025 -0.45553856  1.39487112]\n",
      " [ 0.75386522 -1.69903685 -1.42258268  0.39459216 -0.45553856 -0.8966066 ]\n",
      " ...\n",
      " [-0.77088662 -1.09221383 -1.06668232 -0.71669499 -0.45553856 -0.95416214]\n",
      " [-1.15207458  0.16339338 -0.83696481 -1.79408888 -0.0253694   1.50537774]\n",
      " [-1.15207458  2.2582239  -0.38157412 -1.17545181 -0.46467342  1.26594672]]\n",
      "[0. 1. 1. 0. 0. 0. 2. 0. 0. 1. 0. 0. 0. 0. 0. 1. 0. 1. 0. 0. 1. 0. 1. 1.\n",
      " 2. 0. 0. 2. 0. 0. 0. 1. 0. 1. 0. 0. 0. 0. 0. 0. 2. 0. 1. 2. 1. 0. 2. 0.\n",
      " 1. 1. 1. 1. 1. 2. 1. 1. 0. 0. 0. 0. 0. 0. 0. 1. 0. 1. 0. 0. 2. 0. 1. 0.\n",
      " 1. 0. 1. 0. 1. 1. 0. 1. 1. 0. 1. 1. 0. 1. 1. 0. 1. 2. 0. 1. 0. 0. 0. 0.\n",
      " 0. 1. 0. 1. 0. 1. 0. 1. 0. 2. 1. 2. 1. 1. 1. 1. 0. 2. 0. 1. 2. 1. 0. 0.\n",
      " 0. 0. 0. 1. 1. 0. 0. 0. 2. 1. 0. 2. 2. 0. 2. 1. 1. 1. 0. 2. 0. 0. 2. 0.\n",
      " 0. 1. 1. 1. 0. 1. 2. 1. 2. 2. 0. 1. 2. 1. 0. 1. 0. 1. 1. 1. 0. 1. 2. 1.\n",
      " 0. 2. 0. 1. 1. 1. 0. 1. 0. 0. 0. 0. 2. 0. 0. 0. 0. 1. 1. 1. 0. 0. 0. 2.\n",
      " 0. 1. 2. 1. 0. 2. 0. 2. 2. 0. 0. 0. 0. 0. 0. 0. 1. 0. 0. 1. 0. 0. 1. 0.\n",
      " 1. 1. 1. 1. 0. 0. 0. 2. 0. 2. 0. 0. 0. 0. 0. 0. 2. 0. 1. 1. 2. 1. 2. 2.\n",
      " 0. 0. 1. 1. 0. 2. 0. 0. 1. 0. 0. 0. 1. 0. 0. 2. 0. 1. 1. 1. 0. 0. 2. 0.\n",
      " 0. 2. 0. 2. 2. 0. 0. 0. 1. 2. 2. 1. 2. 2. 0. 0. 0. 1. 1. 0. 2. 0. 1. 1.\n",
      " 1. 2. 0. 0. 2. 1. 1. 0. 0. 2. 1. 0. 0. 1. 0. 0. 0. 0. 0. 0. 0. 2. 0. 1.\n",
      " 1. 0. 1. 1. 1. 0. 1. 1. 1. 0. 0. 0. 0. 1. 0. 1. 2. 0. 2. 0. 0. 0. 1. 2.\n",
      " 0. 1. 1. 1. 1. 2. 0. 0. 2. 0. 1. 0. 2. 0. 1. 1. 2. 1. 0. 0. 0. 0. 0. 0.\n",
      " 0. 0. 1. 1. 1. 0. 1. 0. 0. 0. 0. 1. 2. 0. 0. 2. 0. 2. 1. 1. 1. 1. 0. 1.\n",
      " 2. 0. 2. 1. 0. 2. 1. 0. 2. 2. 0. 1. 1. 0. 0. 0. 0. 1. 1. 1. 0. 0. 1. 0.\n",
      " 0. 0. 2. 1. 0. 0. 1. 1. 0. 0. 1. 0. 0. 1. 0. 2. 2. 0. 1. 0. 1. 1. 0. 2.\n",
      " 0. 2. 0. 0. 1. 0. 1. 0. 0. 2. 2. 0. 0. 0. 0. 1. 0. 0. 0. 1. 1. 1. 1. 1.\n",
      " 1. 0. 0. 0. 2. 1. 0. 0. 1. 0. 2. 1. 0. 0. 0. 1. 2. 1. 1. 0. 0. 0. 1. 0.\n",
      " 2. 0. 1. 0. 0. 1. 0. 0. 1. 1. 0. 0. 0. 0. 0. 2. 0. 0. 1. 1. 1. 0. 1. 1.\n",
      " 2. 1. 1. 2. 1. 0. 0. 0. 0. 1. 1. 0. 1. 0. 0. 1. 0. 2. 1. 1. 0. 2. 1. 0.\n",
      " 1. 0. 1. 1. 0. 0. 2. 0. 0. 0. 1. 2. 1. 1. 0. 1. 1. 1. 1. 1. 0. 0. 0. 1.\n",
      " 0. 0. 1. 0. 0. 2. 1. 0. 1. 0. 0. 0. 0. 0. 1. 1. 0. 0. 1. 0. 1. 0. 0. 1.\n",
      " 1. 1. 0. 1. 0. 1. 2. 1. 0. 1. 1. 0. 0. 0. 1. 1. 0. 0. 1. 0. 0. 0. 2. 0.\n",
      " 0. 0. 1. 0. 1. 0. 0. 2. 0. 0. 1. 1. 1. 0. 0. 0. 2. 0. 1. 1. 0. 1. 0. 1.\n",
      " 2. 0. 1. 0. 1. 0. 0. 2. 0. 0. 0. 1. 0. 2. 1. 0. 1. 1. 0. 1. 0. 1. 1. 2.\n",
      " 0. 1. 0. 0. 0. 1. 1. 0. 0. 0. 0. 0. 0. 1. 1. 1. 1. 2. 0. 1. 0. 2. 0. 1.\n",
      " 0. 0. 1. 0. 2. 1. 0. 2. 1. 1. 0. 2. 0. 0. 0. 0. 0. 1. 0. 0. 1. 1. 1. 2.\n",
      " 0. 0. 2. 0. 0. 0. 0. 0. 0. 0. 1. 2. 1. 0. 0. 0. 0. 0. 1. 0. 0. 0. 0. 0.\n",
      " 0. 1. 1. 0. 0. 0. 1. 0. 0. 0. 0. 0. 1. 0. 1. 0. 0. 1. 0. 1. 1. 1. 1. 0.\n",
      " 0. 0. 2. 0. 1. 2. 1. 0. 2. 0. 1. 0. 2. 0. 1. 1. 1. 1. 0. 0. 0. 0. 2. 0.\n",
      " 0. 1. 0. 1. 0. 2. 0. 1. 2. 1. 0. 0. 0. 0. 1. 0. 0. 0. 0. 2. 1. 0. 0. 1.\n",
      " 0. 0. 0. 0. 2. 0. 1. 2. 0. 0. 0. 1. 2. 0. 1. 0. 0. 0. 1. 0. 1. 2. 2. 0.\n",
      " 0. 2. 0. 1. 0. 0. 0. 0. 2. 0. 0. 0. 1. 2. 0. 0. 1. 1. 0. 0. 0. 2. 0. 1.\n",
      " 0. 0. 1. 0. 0. 1. 1. 1. 0. 0. 0. 2. 1. 2. 0. 2. 0. 1. 0. 0. 2. 1. 0. 1.\n",
      " 0. 2. 2. 2. 1. 0. 1. 1. 0. 0. 2. 0. 1. 0. 2. 0. 1. 0. 0. 0. 1. 2. 2. 2.\n",
      " 1. 1. 2. 2. 0. 2. 0. 0. 0. 1. 1. 0. 1. 0. 2. 0. 0. 0. 0. 1. 0. 1. 1. 0.\n",
      " 2. 1. 1. 2. 0. 1. 0. 0. 0. 1. 0. 1. 1. 2. 0. 0. 0. 2. 0. 2. 0. 1. 2. 0.\n",
      " 0. 1. 0. 0. 0. 0. 1. 1. 1. 0. 0. 0. 0. 1. 1. 0. 0. 2. 1. 0. 2. 1. 2. 0.\n",
      " 1. 1. 1. 1. 0. 1. 2. 0. 0. 1. 1. 0. 1. 1. 2. 1. 0. 0. 1. 1. 0. 0. 1. 0.\n",
      " 1. 2. 2. 0. 0. 0. 1. 0. 0. 0. 0. 0. 1. 0. 1.]\n"
     ]
    },
    {
     "name": "stderr",
     "output_type": "stream",
     "text": [
      "/anaconda3/envs/ligo/lib/python3.6/site-packages/sklearn/preprocessing/label.py:151: DeprecationWarning: The truth value of an empty array is ambiguous. Returning False, but in future this will result in an error. Use `array.size > 0` to check that an array is not empty.\n",
      "  if diff:\n"
     ]
    },
    {
     "name": "stdout",
     "output_type": "stream",
     "text": [
      "[0 0 2 0 1 0 1 0 1 0 0 0 1 0 0 1 0 1 1 0 0 0 0 1 1 1 2 2 0 1 0 0 0 0 0 0 1\n",
      " 0 0 1 1 1 2 1 0 0 0 0 1 1 1 1 1 1 0 1 0 2 0 1 1 0 0 1 1 0 1 0 2 1 0 1 1 0\n",
      " 1 1 2 1 0 1 0 2 1 0 0 0 2 0 1 2 0 0 1 0 0 2 2 0 0 0 0 0 1 0 1 0 0 1 1 1 1\n",
      " 1 0 0 1 1 0 0 0 0 0 2 1 2 2 0 1 1 1 1 2 1 0 0 0 0 2 0 0 0 1 1 0 0 1 0 0 0\n",
      " 2 1 0 0 1 2 1 1 0 0 0 1 1 0 1 0 2 0 0 0 1 0 1 1 1 2 0 0 1 0 0 0 1 0 0 2 0\n",
      " 1 2 2 0 1 2 1 2 1 1 1 0 2 0 2 1 1 1 0 0 0 1 0 0 1 0 0 0 2 1 1 1 1 1 2 0 2\n",
      " 0 0 2 1 0 0 0 1 1 0 1 0 1 1 1 0 0 1 2 1 1 2 0 1 1 0 0 1 0 1 0 0 0 0 1 1 0\n",
      " 0 1 2 1 1 0 0 1 1 0 1 0 0 0 0 1 1 1 0 1 0 0 1 0 1 1 0 0 1 0 0 2 0 0 2 1 1\n",
      " 1 1 2 1 0 1 0 2 0 0 1 0 2 0 1 1 1 2 1 1 0 0 1 0 1 1 1 0 1 0 0 0 2 1 1 0 1\n",
      " 0 0 2 0 0 1 1 0 1 0 0 0 2 0 0 2 1 1 1 1 0 2 0 1 0 1 0 0 2 1 0 0 1 1 1 0 1\n",
      " 2 1 0 0 2 1 0 0 2 0 0 0 0 0 1 1 1 0 0 1 2 0 2 0 1 1 1 1 2 2 0 1 0 0 0 1 0\n",
      " 1 0 0 1 0 1 0 1 0 1 1 1 2 1 1 0 2 1 0 0 2 1 1 0 1 2 0 1 0 2 0 1 1 1 1 2 1\n",
      " 1 0 0 1 1 0 0 1 1 0 0 1 1 2 1 2 0 0 0 2 1 0 0 0 2 0 1 1 0 1 0 0 0 0 2 0 2\n",
      " 0 1 0 0 0 2 0 0 0 0 2 0 1 0 2 1 0 1 1 0 0 1 0 1 0 1 1 0 1 0 2 2 1 0 0 1 0\n",
      " 1 1 2 1 1 0 1 1 1 0 1 0 1 1 0 1 1 0 0 0 1 1 1 0 0 0 0 1 0 0 0 1 2 1 2 0 1\n",
      " 1 0 2 1 1 1 2 1 0 0 0 0 0 0 0 0 2 2 0 0 1 0 0 0 2 1 2 0 1 0 2 0 0 2 1 0 1\n",
      " 1 1 1 0 1 0 0 1 2 0 1 1 0 1 0 1 1 0 0 1 0 0 0 1 0 0 1 1 1 1 0 2 1 1 1 0 1\n",
      " 0 1 1 0 0 1 0 0 0 0 1 1 1 0 1 0 1 0 0 0 0 2 0 0 2 0 0 0 0 1 1 1 2 1 1 1 1\n",
      " 0 1 2 1 1 2 0 1 1 0 1 1 1 0 1 1 0 1 1 0 0 1 0 1 0 2 2 1 1 2 1 0 0 2 0 0 1\n",
      " 2 0 0 1 1 1 0 2 0 1 0 1 1 0 0 0 0 0 1 2 0 0 2 1 0 0 0 0 0 1 2 0 1 1 0 0 2\n",
      " 0 1 2 0 1 0 0 0 0 0 2 0 1 0 2 0 0 1 1 0 1 0 1 0 1 0 0 1 2 0 0 2 0 1 0 1 2\n",
      " 1 0 1 1 0 1 2 0 2 0 1 0 0 0 1 0 0 1 0 1 2 1 0 2 1 2 0 1 1 2 0 2 0 1 0 1 2\n",
      " 2 0 0 0 2 0 0 1 1 1 1 2 0 0 0 0 0 1 1 0 1 0 1 2 1 1 0 0 1 0 0 1 1 2 1 0 1\n",
      " 0 0 0 0 0 0 1 1 1 2 0 0 0 0 0 1 2 1 1 1 1 1 2 1 0 1 0 1 0 2 1 0 1 1 0 1 0\n",
      " 0 1 2 0 2 1 1 1 0 0 1 1 1 1 0 1 1 0 0 0 1 0 0 1 0 1 0 0 1 0 0 0 0 0 0 1 1\n",
      " 1 1 0 0 0 0 0 1 0 0 0 0 0 1 1 1 1 1 0 2 0 2 0 1 1 1 2 2 0 1 0 2 1 0 0 0 1\n",
      " 0 2 1 2 0 0 0 1 1 0 1 1 0 1 1 2 1 1 0 0 1 0 2 1 2 0 1 1 1 2 1 0 1 0 0 1 2]\n",
      "[0. 0. 2. 0. 1. 0. 1. 0. 1. 0. 0. 0. 1. 0. 0. 1. 0. 1. 1. 0. 0. 0. 0. 1.\n",
      " 1. 1. 2. 2. 0. 1. 0. 0. 0. 0. 0. 0. 1. 0. 0. 1. 1. 1. 2. 1. 0. 0. 0. 0.\n",
      " 1. 1. 1. 1. 1. 1. 0. 1. 0. 2. 0. 1. 1. 0. 0. 1. 1. 0. 1. 0. 2. 1. 0. 1.\n",
      " 1. 0. 1. 1. 2. 1. 0. 1. 0. 2. 1. 0. 0. 0. 2. 0. 1. 2. 0. 0. 1. 0. 0. 2.\n",
      " 2. 0. 0. 0. 0. 0. 1. 0. 1. 0. 0. 1. 1. 1. 1. 1. 0. 0. 1. 1. 0. 0. 0. 0.\n",
      " 0. 2. 1. 2. 2. 0. 1. 1. 1. 1. 2. 1. 0. 0. 0. 0. 2. 0. 0. 0. 1. 1. 0. 0.\n",
      " 1. 0. 0. 0. 2. 1. 0. 0. 1. 2. 1. 1. 0. 0. 0. 1. 1. 0. 1. 0. 2. 0. 0. 0.\n",
      " 1. 0. 1. 1. 1. 2. 0. 0. 1. 0. 0. 0. 1. 0. 0. 2. 0. 1. 2. 2. 0. 1. 2. 1.\n",
      " 2. 1. 1. 1. 0. 2. 0. 2. 1. 1. 1. 0. 0. 0. 1. 0. 0. 1. 0. 0. 0. 2. 1. 1.\n",
      " 1. 1. 1. 2. 0. 2. 0. 0. 2. 1. 0. 0. 0. 1. 1. 0. 1. 0. 1. 1. 1. 0. 0. 1.\n",
      " 2. 1. 1. 2. 0. 1. 1. 0. 0. 1. 0. 1. 0. 0. 0. 0. 1. 1. 0. 0. 1. 2. 1. 1.\n",
      " 0. 0. 1. 1. 0. 1. 0. 0. 0. 0. 1. 1. 1. 0. 1. 0. 0. 1. 0. 1. 1. 0. 0. 1.\n",
      " 0. 0. 2. 0. 0. 2. 1. 1. 1. 1. 2. 1. 0. 1. 0. 2. 0. 0. 1. 0. 2. 0. 1. 1.\n",
      " 1. 2. 1. 1. 0. 0. 1. 0. 1. 1. 1. 0. 1. 0. 0. 0. 2. 1. 1. 0. 1. 0. 0. 2.\n",
      " 0. 0. 1. 1. 0. 1. 0. 0. 0. 2. 0. 0. 2. 1. 1. 1. 1. 0. 2. 0. 1. 0. 1. 0.\n",
      " 0. 2. 1. 0. 0. 1. 1. 1. 0. 1. 2. 1. 0. 0. 2. 1. 0. 0. 2. 0. 0. 0. 0. 0.\n",
      " 1. 1. 1. 0. 0. 1. 2. 0. 2. 0. 1. 1. 1. 1. 2. 2. 0. 1. 0. 0. 0. 1. 0. 1.\n",
      " 0. 0. 1. 0. 1. 0. 1. 0. 1. 1. 1. 2. 1. 1. 0. 2. 1. 0. 0. 2. 1. 1. 0. 1.\n",
      " 2. 0. 1. 0. 2. 0. 1. 1. 1. 1. 2. 1. 1. 0. 0. 1. 1. 0. 0. 1. 1. 0. 0. 1.\n",
      " 1. 2. 1. 2. 0. 0. 0. 2. 1. 0. 0. 0. 2. 0. 1. 1. 0. 1. 0. 0. 0. 0. 2. 0.\n",
      " 2. 0. 1. 0. 0. 0. 2. 0. 0. 0. 0. 2. 0. 1. 0. 2. 1. 0. 1. 1. 0. 0. 1. 0.\n",
      " 1. 0. 1. 1. 0. 1. 0. 2. 2. 1. 0. 0. 1. 0. 1. 1. 2. 1. 1. 0. 1. 1. 1. 0.\n",
      " 1. 0. 1. 1. 0. 1. 1. 0. 0. 0. 1. 1. 1. 0. 0. 0. 0. 1. 0. 0. 0. 1. 2. 1.\n",
      " 2. 0. 1. 1. 0. 2. 1. 1. 1. 2. 1. 0. 0. 0. 0. 0. 0. 0. 0. 2. 2. 0. 0. 1.\n",
      " 0. 0. 0. 2. 1. 2. 0. 1. 0. 2. 0. 0. 2. 1. 0. 1. 1. 1. 1. 0. 1. 0. 0. 1.\n",
      " 2. 0. 1. 1. 0. 1. 0. 1. 1. 0. 0. 1. 0. 0. 0. 1. 0. 0. 1. 1. 1. 1. 0. 2.\n",
      " 1. 1. 1. 0. 1. 0. 1. 1. 0. 0. 1. 0. 0. 0. 0. 1. 1. 1. 0. 1. 0. 1. 0. 0.\n",
      " 0. 0. 2. 0. 0. 2. 0. 0. 0. 0. 1. 1. 1. 2. 1. 1. 1. 1. 0. 1. 2. 1. 1. 2.\n",
      " 0. 1. 1. 0. 1. 1. 1. 0. 1. 1. 0. 1. 1. 0. 0. 1. 0. 1. 0. 2. 2. 1. 1. 2.\n",
      " 1. 0. 0. 2. 0. 0. 1. 2. 0. 0. 1. 1. 1. 0. 2. 0. 1. 0. 1. 1. 0. 0. 0. 0.\n",
      " 0. 1. 2. 0. 0. 2. 1. 0. 0. 0. 0. 0. 1. 2. 0. 1. 1. 0. 0. 2. 0. 1. 2. 0.\n",
      " 1. 0. 0. 0. 0. 0. 2. 0. 1. 0. 2. 0. 0. 1. 1. 0. 1. 0. 1. 0. 1. 0. 0. 1.\n",
      " 2. 0. 0. 2. 0. 1. 0. 1. 2. 1. 0. 1. 1. 0. 1. 2. 0. 2. 0. 1. 0. 0. 0. 1.\n",
      " 0. 0. 1. 0. 1. 2. 1. 0. 2. 1. 2. 0. 1. 1. 2. 0. 2. 0. 1. 0. 1. 2. 2. 0.\n",
      " 0. 0. 2. 0. 0. 1. 1. 1. 1. 2. 0. 0. 0. 0. 0. 1. 1. 0. 1. 0. 1. 2. 1. 1.\n",
      " 0. 0. 1. 0. 0. 1. 1. 2. 1. 0. 1. 0. 0. 0. 0. 0. 0. 1. 1. 1. 2. 0. 0. 0.\n",
      " 0. 0. 1. 2. 1. 1. 1. 1. 1. 2. 1. 0. 1. 0. 1. 0. 2. 1. 0. 1. 1. 0. 1. 0.\n",
      " 0. 1. 2. 0. 2. 1. 1. 1. 0. 0. 1. 1. 1. 1. 0. 1. 1. 0. 0. 0. 1. 0. 0. 1.\n",
      " 0. 1. 0. 0. 1. 0. 0. 0. 0. 0. 0. 1. 1. 1. 1. 0. 0. 0. 0. 0. 1. 0. 0. 0.\n",
      " 0. 0. 1. 1. 1. 1. 1. 0. 2. 0. 2. 0. 1. 1. 1. 2. 2. 0. 1. 0. 2. 1. 0. 0.\n",
      " 0. 1. 0. 2. 1. 2. 0. 0. 0. 1. 1. 0. 1. 1. 0. 1. 1. 2. 1. 1. 0. 0. 1. 0.\n",
      " 2. 1. 2. 0. 1. 1. 1. 2. 1. 0. 1. 0. 0. 1. 2.]\n"
     ]
    },
    {
     "name": "stderr",
     "output_type": "stream",
     "text": [
      "/anaconda3/envs/ligo/lib/python3.6/site-packages/sklearn/preprocessing/label.py:151: DeprecationWarning: The truth value of an empty array is ambiguous. Returning False, but in future this will result in an error. Use `array.size > 0` to check that an array is not empty.\n",
      "  if diff:\n"
     ]
    }
   ],
   "source": [
    "###sky double check this part \n",
    "print(y_val)\n",
    "print(X_val)\n",
    "\n",
    "y_val2=np.argmax(y_val, axis=1)\n",
    "y_val=encoder.inverse_transform(y_val2)\n",
    "print(y_val)\n",
    "\n",
    "\n",
    "y_pred = model.predict(X_val)\n",
    "print(y_pred)\n",
    "print(encoder.inverse_transform(y_pred))\n",
    "\n"
   ]
  },
  {
   "cell_type": "code",
   "execution_count": 14,
   "metadata": {},
   "outputs": [
    {
     "name": "stdout",
     "output_type": "stream",
     "text": [
      "Confusion matrix, without normalization\n",
      "[[274 170  70]\n",
      " [128 168  41]\n",
      " [ 61  62  25]]\n",
      "Normalized confusion matrix\n",
      "[[0.53 0.33 0.14]\n",
      " [0.38 0.5  0.12]\n",
      " [0.41 0.42 0.17]]\n"
     ]
    },
    {
     "data": {
      "image/png": "[encoded data removed]",
      "text/plain": [
       "<Figure size 432x288 with 2 Axes>"
      ]
     },
     "metadata": {},
     "output_type": "display_data"
    },
    {
     "data": {
      "image/png": "[encoded data removed]",
      "text/plain": [
       "<Figure size 432x288 with 2 Axes>"
      ]
     },
     "metadata": {},
     "output_type": "display_data"
    }
   ],
   "source": [
    "#Confusion_matrix\n",
    "#pre_y=pre_y[tfrac:]\n",
    "def plot_confusion_matrix(cm, classes,\n",
    "                          normalize=False,\n",
    "                          title='Confusion matrix',\n",
    "                          cmap=plt.cm.Blues):\n",
    "    \"\"\"\n",
    "    This function prints and plots the confusion matrix.\n",
    "    Normalization can be applied by setting `normalize=True`.\n",
    "    \"\"\"\n",
    "    if normalize:\n",
    "        cm = cm.astype('float') / cm.sum(axis=1)[:, np.newaxis]\n",
    "        print(\"Normalized confusion matrix\")\n",
    "    else:\n",
    "        print('Confusion matrix, without normalization')\n",
    "\n",
    "    print(cm)\n",
    "\n",
    "    plt.imshow(cm, interpolation='nearest', cmap=cmap)\n",
    "    plt.title(title)\n",
    "    plt.colorbar()\n",
    "    tick_marks = np.arange(len(classes))\n",
    "    plt.xticks(tick_marks, classes, rotation=45)\n",
    "    plt.yticks(tick_marks, classes)\n",
    "\n",
    "    fmt = '.2f' if normalize else 'd'\n",
    "    thresh = cm.max() / 2.\n",
    "    for i, j in itertools.product(range(cm.shape[0]), range(cm.shape[1])):\n",
    "        plt.text(j, i, format(cm[i, j], fmt),\n",
    "                 horizontalalignment=\"center\",\n",
    "                 color=\"white\" if cm[i, j] > thresh else \"black\")\n",
    "\n",
    "    plt.tight_layout()\n",
    "    plt.ylabel('True label')\n",
    "    plt.xlabel('Predicted label')\n",
    "\n",
    "# Compute confusion matrix\n",
    "cnf_matrix = confusion_matrix(y_val, y_pred)\n",
    "np.set_printoptions(precision=2)\n",
    "\n",
    "# Plot non-normalized confusion matrix\n",
    "class_names=y\n",
    "plt.figure()\n",
    "plot_confusion_matrix(cnf_matrix, classes=[0,1,2],\n",
    "                      title='Confusion matrix, without normalization')\n",
    "plt.savefig('livonhanlockmatrix.png', dpi =300,bbox_inches='tight')\n",
    "# Plot normalized confusion matrix\n",
    "plt.figure()\n",
    "plot_confusion_matrix(cnf_matrix, classes=[0,1,2], normalize=True,\n",
    "                      title='Normalized confusion matrix')\n",
    "plt.savefig('livonhanlockmatrixN.png', dpi =300,bbox_inches='tight')\n",
    "plt.show()\n",
    "\n",
    "\n"
   ]
  },
  {
   "cell_type": "code",
   "execution_count": 15,
   "metadata": {},
   "outputs": [],
   "source": [
    "#y_pred = model.predict(X_val) # X_val could be new data too?\n",
    "# Inverse-normalize\n",
    "#y_val = y_val*stdv_y + mean_y\n",
    "#y_pred = y_pred*stdv_y + mean_y"
   ]
  },
  {
   "cell_type": "code",
   "execution_count": null,
   "metadata": {},
   "outputs": [],
   "source": []
  },
  {
   "cell_type": "code",
   "execution_count": null,
   "metadata": {},
   "outputs": [],
   "source": []
  },
  {
   "cell_type": "code",
   "execution_count": null,
   "metadata": {},
   "outputs": [],
   "source": []
  }
 ],
 "metadata": {
  "kernelspec": {
   "display_name": "Python 3",
   "language": "python",
   "name": "python3"
  },
  "language_info": {
   "codemirror_mode": {
    "name": "ipython",
    "version": 3
   },
   "file_extension": ".py",
   "mimetype": "text/x-python",
   "name": "python",
   "nbconvert_exporter": "python",
   "pygments_lexer": "ipython3",
   "version": "3.6.6"
  }
 },
 "nbformat": 4,
 "nbformat_minor": 2
}
